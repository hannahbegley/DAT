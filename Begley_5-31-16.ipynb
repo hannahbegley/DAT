{
 "cells": [
  {
   "cell_type": "markdown",
   "metadata": {},
   "source": [
    "# What are you Studying?\n",
    "\n",
    "## Abstract\n",
    "\n",
    "JSTOR is a not-for-profit digital library created in 1995 to help university and college libraries free up space on their shelves, save costs, and provide greater levels of access to scholarly content. JSTOR has partnered with publishers of academic journals across more than 80 disciplines to provide online access to thousands of high-quality, peer-reviewed academic journals all the way back to the first issue published. \n",
    "\n",
    "Many of the 10,000 JSTOR participating institutions subscribe to multidisciplinary subsets of journals (known as collections). Consequently, it can be difficult to infer the academic strengths of an institution simply from the collections they license. I propose  that it is possible to determine academic program strengths at an institution by analyzing their usage of JSTOR content within specific disciplines.\n",
    "\n",
    "\n",
    "Relatedly, I hypothesize that:\n",
    "1. Having academic programs within a particular discipline will lead to higher usage of journal content within that discipline, relative to ‘similar’ institutions that do not have  programs  of study in that area (measured by comparing usage of a particular journal for institutions that have and do not have programs of study in that area);\n",
    "2. Content usage in a particular discipline can be used to determine whether an institution has, or does not have, a field of study in that discipline;\n",
    "3. Content usage can therefore be predicted for unlicensed content by examining the academic programs offered at that institution and comparing it to usage patterns for similar institutions.\n"
   ]
  },
  {
   "cell_type": "markdown",
   "metadata": {},
   "source": [
    "## Overview of Data\n",
    "For this analysis, I will use a combination of internally generated and externally collected data. \n",
    "### Usage data \n",
    "Usage data by journal for a selection of 22 of the 80 JSTOR disciplines. For every journal in the discipline, I have aggregated the usage at each subscribing institution for a 3-year period from 2013-2016. \n",
    "\n",
    "This data was retrieved from SQL tables of usage data and institution data. Each row of this dataset contains information about the institution (size, location, overall JSTOR usage) as well as the journal name, journal discipline, and usage for that specific journal. \n",
    "##### Size: 3 datasets (train, fit, test) that together total 6,765,337 rows"
   ]
  },
  {
   "cell_type": "markdown",
   "metadata": {},
   "source": [
    "### Academic programs data\n",
    "A dataset from the World Higher Education Database (WHED) containing information on academic programs offered at different universities worldwide. This dataset has an ID “key” to join this data to the JSTOR institution usage dataset. This dataset contains information for over 600 different programs of study (referred to in the data as \"fields of study\") offered at 17,000 colleges and universities worldwide.\n",
    "###### Size: 456,860 rows"
   ]
  },
  {
   "cell_type": "markdown",
   "metadata": {},
   "source": [
    "### Fields of Study to Disciplines Map\n",
    "\n",
    "A dataset that “maps” the academic fields of study from the WHED dataset to the relevant JSTOR disciplines. This allows me to group these 660 fields of study into the 80 JSTOR disciplines to compare how many fields of study within each discipline a specific institution offers. \n",
    "###### Size: 850 rows\n"
   ]
  },
  {
   "cell_type": "markdown",
   "metadata": {},
   "source": [
    " "
   ]
  },
  {
   "cell_type": "markdown",
   "metadata": {},
   "source": [
    "### Supplemental Datasets\n",
    "Additional datasets were collected to supplement the 3 main datasets. These include:\n",
    "#### Data by institution: usage of all JSTOR content over the same 3-year priod. \n",
    "This is to see what proportion of an institution's usage came from this specific journal.\n",
    "#### Data by institution: usage of the collection containing the target journal. \n",
    "This is to see what proportion of an institution's usage of the collection that contains the journal came from this specific journal.\n",
    "#### WHED Fields of Study Summary: number of fields of study listed for each instititution across all disciplines. \n",
    "This is to account for differences in reporting (some institutions may choose to only list 5 or 6 important areas of study, whereas others may list every single program offered)."
   ]
  },
  {
   "cell_type": "markdown",
   "metadata": {},
   "source": [
    "## Reviewing and Aggregating Data"
   ]
  },
  {
   "cell_type": "markdown",
   "metadata": {},
   "source": [
    "### Usage Data\n",
    "##### Data: \n",
    ".csv files containing usage by institution for each journal of a discipline. The files were split by discipline into 3 folders: train, fit, and test.\n",
    "\n",
    "##### Objective: \n",
    "For each folder, write all .csv files to a single dataset."
   ]
  },
  {
   "cell_type": "code",
   "execution_count": 3,
   "metadata": {
    "collapsed": false
   },
   "outputs": [],
   "source": [
    "import pandas as pd\n",
    "import numpy as np\n",
    "import os\n",
    "import shutil \n",
    "from matplotlib import pyplot as plt  \n",
    "%matplotlib inline \n",
    "import seaborn as sb\n",
    "from sklearn.linear_model import LinearRegression, Lasso, Ridge\n",
    "from sklearn.cross_validation import cross_val_score\n",
    "from sklearn.feature_extraction import DictVectorizer\n",
    "from sklearn.cross_validation import train_test_split\n",
    "from sklearn.linear_model import LogisticRegression"
   ]
  },
  {
   "cell_type": "code",
   "execution_count": 8,
   "metadata": {
    "collapsed": false
   },
   "outputs": [
    {
     "name": "stdout",
     "output_type": "stream",
     "text": [
      "african_american_studies.txt\n",
      "art_and_art_history.txt\n",
      "art_and_art_history_2.txt\n",
      "economics_1.txt\n",
      "economics_2.txt\n",
      "economics_3.txt\n",
      "education_.txt\n",
      "education_2.txt\n",
      "education_3.txt\n",
      "environmental_science.txt\n",
      "language_and_literature_1.txt\n",
      "language_and_literature_2.txt\n",
      "language_and_literature_3.txt\n",
      "language_and_literature_4.txt\n",
      "language_and_literature_5.txt\n",
      "political_science_1.txt\n",
      "political_science_2.txt\n",
      "political_science_3.txt\n",
      "zoology.txt\n"
     ]
    }
   ],
   "source": [
    "#data_set can be changed to train, fit, test accordingly\n",
    "data_set = 'Train'\n",
    "Location = ''\n",
    "path = Location + data_set + '/'\n",
    "files = os.listdir(path)\n",
    "#print files\n",
    "for line in files:\n",
    "    print line"
   ]
  },
  {
   "cell_type": "code",
   "execution_count": 9,
   "metadata": {
    "collapsed": false
   },
   "outputs": [
    {
     "name": "stdout",
     "output_type": "stream",
     "text": [
      "dataset:\n",
      "<class 'pandas.core.frame.DataFrame'>\n",
      "Int64Index: 2624731 entries, 0 to 113761\n",
      "Data columns (total 15 columns):\n",
      "caccess                       int64\n",
      "collection                    object\n",
      "devnations                    object\n",
      "discipline                    object\n",
      "institution_classification    object\n",
      "institution_community         object\n",
      "institution_country           object\n",
      "institution_name              object\n",
      "institution_rank              object\n",
      "institution_state             object\n",
      "journalid                     object\n",
      "publication                   object\n",
      "region                        object\n",
      "sitename                      object\n",
      "system_id                     object\n",
      "dtypes: int64(1), object(14)\n",
      "memory usage: 320.4+ MB\n",
      " \n",
      " \n",
      " \n",
      "Rows of data by JSTOR discipline:\n",
      "language_and_literature     509192\n",
      "economics                   501855\n",
      "political_science           477741\n",
      "art_and_art_history         404655\n",
      "education                   336819\n",
      "education_                  193133\n",
      "zoology                     113762\n",
      "african_american_studies     74961\n",
      "environmental_science        12613\n",
      "Name: discipline, dtype: int64\n",
      " \n",
      " \n",
      " \n",
      "Number of rows:\n"
     ]
    },
    {
     "data": {
      "text/plain": [
       "2624731"
      ]
     },
     "execution_count": 9,
     "metadata": {},
     "output_type": "execute_result"
    }
   ],
   "source": [
    "#discipline only included in filename, not in document itself- so create list of disciplines from filenames to add as column\n",
    "\n",
    "#write to dataframe\n",
    "list_names = pd.DataFrame(files)\n",
    "list_names.columns = ['FileNames']\n",
    "files = list_names['FileNames']\n",
    "\n",
    "split_name = files.apply(lambda x: x.split('.'))\n",
    "disciplines = split_name.apply(lambda x: x[0])\n",
    "\n",
    "#remove numbers from filenames\n",
    "remove_values = ['_1', '_2', '_3', '_4', '_5', '_6',]\n",
    "for line in remove_values:\n",
    "    disciplines =disciplines.str.replace(line, '')\n",
    "disciplines = disciplines\n",
    "\n",
    "#read files into dataframes. Save dataframes to list\n",
    "i = 0\n",
    "file_list = []\n",
    "while i <len(files) :\n",
    "    pick_file = files[i]\n",
    "    ChosenFile = str(path + pick_file)\n",
    "    doc = pd.read_csv(ChosenFile, sep=\"\\t\", header=0)\n",
    "    doc['discipline'] = disciplines[i]\n",
    "    file_list.append(doc)\n",
    "    i += 1\n",
    "\n",
    "#combine list of dataframes into single dataframe\n",
    "data = pd.concat(file_list)\n",
    "\n",
    "#write testing data. Drop index b/c indices are residual from individual docs\n",
    "filename = data_set + '_data.csv'\n",
    "data.to_csv(filename, sep=\"\\t\", index=False)\n",
    "\n",
    "#examine columns\n",
    "print \"dataset:\"\n",
    "data.info()\n",
    "print ' '\n",
    "print ' '\n",
    "print ' '\n",
    "\n",
    "#check counts for individual JSTOR disciplines\n",
    "print \"Rows of data by JSTOR discipline:\"\n",
    "print data['discipline'].value_counts()\n",
    "print ' '\n",
    "print ' '\n",
    "print ' '\n",
    "\n",
    "#make sure length makes sense for all aggregated files- should be sum of train_data['discipline'].value_counts()\n",
    "print \"Number of rows:\"\n",
    "len(data)"
   ]
  },
  {
   "cell_type": "markdown",
   "metadata": {},
   "source": [
    "### Analyzing Usage Data"
   ]
  },
  {
   "cell_type": "code",
   "execution_count": 10,
   "metadata": {
    "collapsed": false,
    "scrolled": true
   },
   "outputs": [
    {
     "data": {
      "text/html": [
       "<div>\n",
       "<table border=\"1\" class=\"dataframe\">\n",
       "  <thead>\n",
       "    <tr style=\"text-align: right;\">\n",
       "      <th></th>\n",
       "      <th>caccess</th>\n",
       "      <th>collection</th>\n",
       "      <th>devnations</th>\n",
       "      <th>discipline</th>\n",
       "      <th>institution_classification</th>\n",
       "      <th>institution_community</th>\n",
       "      <th>institution_country</th>\n",
       "      <th>institution_rank</th>\n",
       "      <th>institution_state</th>\n",
       "      <th>journalid</th>\n",
       "      <th>publication</th>\n",
       "      <th>region</th>\n",
       "      <th>system_id</th>\n",
       "    </tr>\n",
       "  </thead>\n",
       "  <tbody>\n",
       "    <tr>\n",
       "      <th>74961</th>\n",
       "      <td>27169</td>\n",
       "      <td>Arts &amp; Sciences II Collection</td>\n",
       "      <td>No</td>\n",
       "      <td>art_and_art_history</td>\n",
       "      <td>Very_Large</td>\n",
       "      <td>Higher_Education</td>\n",
       "      <td>United_States</td>\n",
       "      <td>A</td>\n",
       "      <td>NY</td>\n",
       "      <td>10.2307/j100058</td>\n",
       "      <td>American Journal of Archaeology</td>\n",
       "      <td>US_Canada_East</td>\n",
       "      <td>019-621</td>\n",
       "    </tr>\n",
       "    <tr>\n",
       "      <th>74962</th>\n",
       "      <td>20405</td>\n",
       "      <td>Arts &amp; Sciences I Collection</td>\n",
       "      <td>No</td>\n",
       "      <td>art_and_art_history</td>\n",
       "      <td>Large</td>\n",
       "      <td>Higher_Education</td>\n",
       "      <td>United_Kingdom</td>\n",
       "      <td>A</td>\n",
       "      <td>(null)</td>\n",
       "      <td>10.2307/j100377</td>\n",
       "      <td>Speculum</td>\n",
       "      <td>UK_Northern_Europe</td>\n",
       "      <td>020-148</td>\n",
       "    </tr>\n",
       "    <tr>\n",
       "      <th>74963</th>\n",
       "      <td>17158</td>\n",
       "      <td>Arts &amp; Sciences I Collection</td>\n",
       "      <td>No</td>\n",
       "      <td>art_and_art_history</td>\n",
       "      <td>Large</td>\n",
       "      <td>Higher_Education</td>\n",
       "      <td>Australia</td>\n",
       "      <td>A</td>\n",
       "      <td>Victoria</td>\n",
       "      <td>10.2307/j100377</td>\n",
       "      <td>Speculum</td>\n",
       "      <td>Asia_Australia_New_Zealand</td>\n",
       "      <td>018-731</td>\n",
       "    </tr>\n",
       "    <tr>\n",
       "      <th>74964</th>\n",
       "      <td>16734</td>\n",
       "      <td>Arts &amp; Sciences III Collection</td>\n",
       "      <td>No</td>\n",
       "      <td>art_and_art_history</td>\n",
       "      <td>Large</td>\n",
       "      <td>Higher_Education</td>\n",
       "      <td>United_Kingdom</td>\n",
       "      <td>C</td>\n",
       "      <td>(null)</td>\n",
       "      <td>10.2307/j100112</td>\n",
       "      <td>Burlington Magazine</td>\n",
       "      <td>UK_Northern_Europe</td>\n",
       "      <td>018-084</td>\n",
       "    </tr>\n",
       "    <tr>\n",
       "      <th>74965</th>\n",
       "      <td>14780</td>\n",
       "      <td>Arts &amp; Sciences I Collection</td>\n",
       "      <td>No</td>\n",
       "      <td>art_and_art_history</td>\n",
       "      <td>Large</td>\n",
       "      <td>Higher_Education</td>\n",
       "      <td>United_Kingdom</td>\n",
       "      <td>A</td>\n",
       "      <td>(null)</td>\n",
       "      <td>10.2307/j100377</td>\n",
       "      <td>Speculum</td>\n",
       "      <td>UK_Northern_Europe</td>\n",
       "      <td>020-104</td>\n",
       "    </tr>\n",
       "  </tbody>\n",
       "</table>\n",
       "</div>"
      ],
      "text/plain": [
       "       caccess                      collection devnations  \\\n",
       "74961    27169   Arts & Sciences II Collection         No   \n",
       "74962    20405    Arts & Sciences I Collection         No   \n",
       "74963    17158    Arts & Sciences I Collection         No   \n",
       "74964    16734  Arts & Sciences III Collection         No   \n",
       "74965    14780    Arts & Sciences I Collection         No   \n",
       "\n",
       "                discipline institution_classification institution_community  \\\n",
       "74961  art_and_art_history                 Very_Large      Higher_Education   \n",
       "74962  art_and_art_history                      Large      Higher_Education   \n",
       "74963  art_and_art_history                      Large      Higher_Education   \n",
       "74964  art_and_art_history                      Large      Higher_Education   \n",
       "74965  art_and_art_history                      Large      Higher_Education   \n",
       "\n",
       "      institution_country institution_rank institution_state        journalid  \\\n",
       "74961       United_States                A                NY  10.2307/j100058   \n",
       "74962      United_Kingdom                A            (null)  10.2307/j100377   \n",
       "74963           Australia                A          Victoria  10.2307/j100377   \n",
       "74964      United_Kingdom                C            (null)  10.2307/j100112   \n",
       "74965      United_Kingdom                A            (null)  10.2307/j100377   \n",
       "\n",
       "                           publication                      region system_id  \n",
       "74961  American Journal of Archaeology              US_Canada_East   019-621  \n",
       "74962                         Speculum          UK_Northern_Europe   020-148  \n",
       "74963                         Speculum  Asia_Australia_New_Zealand   018-731  \n",
       "74964              Burlington Magazine          UK_Northern_Europe   018-084  \n",
       "74965                         Speculum          UK_Northern_Europe   020-104  "
      ]
     },
     "execution_count": 10,
     "metadata": {},
     "output_type": "execute_result"
    }
   ],
   "source": [
    "data = pd.read_csv(filename, sep = '\\t')\n",
    "data[data['discipline']=='art_and_art_history'].drop(['institution_name', 'sitename'], 1).head()"
   ]
  },
  {
   "cell_type": "markdown",
   "metadata": {},
   "source": [
    "#### A few notes on the dataset: \n",
    "-Collection is the name of the JSTOR journals collection that contains this particular publication. \n",
    "\n",
    "-Institution rank is an internally established value based on a variety of institutional and economic information\n",
    "\n",
    "-Institution classification is based on institution information compiled in the Carnegie Classification of Institutions of Higher Education (http://carnegieclassifications.iu.edu/), and takes into consideration degrees offered, faculty and student body size, and other factors related to an institution's size. JSTOR divides institutions into 5 categories, Very Small through Very Large."
   ]
  },
  {
   "cell_type": "code",
   "execution_count": 13,
   "metadata": {
    "collapsed": false
   },
   "outputs": [
    {
     "data": {
      "image/png": "[encoded data removed]",
      "text/plain": [
       "<matplotlib.figure.Figure at 0x114268b10>"
      ]
     },
     "metadata": {},
     "output_type": "display_data"
    }
   ],
   "source": [
    "#plot unique journals \n",
    "\n",
    "data['UniqueJournal'] = data.duplicated('publication').astype(int)\n",
    "f = data[['publication','discipline',]][(data['UniqueJournal']==0)].groupby('discipline').count()\\\n",
    ".plot(color = 'r', kind = 'bar', figsize=(15,5))\n",
    "f = plt.title(\"Number of journals in each discipline\", fontsize=20)"
   ]
  },
  {
   "cell_type": "code",
   "execution_count": 14,
   "metadata": {
    "collapsed": false
   },
   "outputs": [
    {
     "data": {
      "image/png": "[encoded data removed]",
      "text/plain": [
       "<matplotlib.figure.Figure at 0x114268dd0>"
      ]
     },
     "metadata": {},
     "output_type": "display_data"
    }
   ],
   "source": [
    "#plot unique institutions \n",
    "\n",
    "data['UniqueIns'] = data.duplicated('sitename').astype(int) # int will convert False to 0 and True to 1\n",
    "f = data[['institution_name','region',]][(data['UniqueIns']==0)].groupby('region').count().\\\n",
    "plot(color = 'b', kind = 'bar', figsize=(15,5))\n",
    "f = plt.title(\"Number of Institutions represented in usage\", fontsize=20)"
   ]
  },
  {
   "cell_type": "markdown",
   "metadata": {
    "collapsed": true
   },
   "source": [
    "### Prepare WHED Academic Program Data Map\n",
    "\n",
    "JSTOR Licensing Editors mapped the 660 WHED program of study terms (referred to as \"field of study\" or \"FOS\" by WHED) to the 80 JSTOR disciplines. Using this key, I can select all WHED fields of study that are mapped to the JSTOR disciplines I have selected for analysis."
   ]
  },
  {
   "cell_type": "code",
   "execution_count": 17,
   "metadata": {
    "collapsed": false
   },
   "outputs": [
    {
     "data": {
      "text/html": [
       "<div>\n",
       "<table border=\"1\" class=\"dataframe\">\n",
       "  <thead>\n",
       "    <tr style=\"text-align: right;\">\n",
       "      <th></th>\n",
       "      <th>FOSDisplay</th>\n",
       "      <th>JSTOR_Discipline_L2</th>\n",
       "      <th>JSTOR_Discipline_L1</th>\n",
       "    </tr>\n",
       "  </thead>\n",
       "  <tbody>\n",
       "    <tr>\n",
       "      <th>0</th>\n",
       "      <td>Administrative Law</td>\n",
       "      <td>Law</td>\n",
       "      <td>Law</td>\n",
       "    </tr>\n",
       "    <tr>\n",
       "      <th>1</th>\n",
       "      <td>African American Studies</td>\n",
       "      <td>African American Studies</td>\n",
       "      <td>Area Studies</td>\n",
       "    </tr>\n",
       "    <tr>\n",
       "      <th>2</th>\n",
       "      <td>African Languages</td>\n",
       "      <td>African Studies</td>\n",
       "      <td>Area Studies</td>\n",
       "    </tr>\n",
       "    <tr>\n",
       "      <th>3</th>\n",
       "      <td>African Studies</td>\n",
       "      <td>African Studies</td>\n",
       "      <td>Area Studies</td>\n",
       "    </tr>\n",
       "    <tr>\n",
       "      <th>4</th>\n",
       "      <td>Afrikaans</td>\n",
       "      <td>African Studies</td>\n",
       "      <td>Area Studies</td>\n",
       "    </tr>\n",
       "  </tbody>\n",
       "</table>\n",
       "</div>"
      ],
      "text/plain": [
       "                 FOSDisplay       JSTOR_Discipline_L2 JSTOR_Discipline_L1\n",
       "0        Administrative Law                       Law                 Law\n",
       "1  African American Studies  African American Studies        Area Studies\n",
       "2         African Languages           African Studies        Area Studies\n",
       "3           African Studies           African Studies        Area Studies\n",
       "4                 Afrikaans           African Studies        Area Studies"
      ]
     },
     "execution_count": 17,
     "metadata": {},
     "output_type": "execute_result"
    }
   ],
   "source": [
    "####### only need to do this for the first dataset\n",
    "disc = pd.read_excel('JSTOR_WHED_Disciplines.xlsx', header=0)\n",
    "disc.head()"
   ]
  },
  {
   "cell_type": "code",
   "execution_count": 18,
   "metadata": {
    "collapsed": false
   },
   "outputs": [
    {
     "name": "stdout",
     "output_type": "stream",
     "text": [
      "number of Fields of Study represented in each JSTOR discipline\n"
     ]
    },
    {
     "data": {
      "text/plain": [
       "education                                 45\n",
       "law                                       32\n",
       "art_and_art_history                       31\n",
       "biological_sciences                       25\n",
       "business                                  19\n",
       "history                                   14\n",
       "botany_and_plant_sciences                 11\n",
       "environmental_science                     10\n",
       "sociology                                  9\n",
       "economics                                  9\n",
       "architecture_and_architectural_history     7\n",
       "language_and_literature                    7\n",
       "classical_studies                          6\n",
       "philosophy                                 6\n",
       "african_studies                            6\n",
       "anthropology                               4\n",
       "jewish_studies                             3\n",
       "international_relations                    3\n",
       "political_science                          3\n",
       "archaeology                                2\n",
       "zoology                                    1\n",
       "african_american_studies                   1\n",
       "Name: JSTOR_Discipline_L2, dtype: int64"
      ]
     },
     "execution_count": 18,
     "metadata": {},
     "output_type": "execute_result"
    }
   ],
   "source": [
    "####### only need to do this for the first dataset\n",
    "\n",
    "#chosen disciplines for train/fit/test data- create dictionary to key each discipline to appropriate dataset\n",
    "disc_key = {'african_american_studies':'train', 'art_and_art_history':'train', 'economics':'train', 'education':'train',\\\n",
    "            'environmental_science':'train',\\\n",
    "           'language_and_literature':'train', 'political_science':'train', 'zoology':'train',\\\n",
    "           'african_studies':'fit', 'archaeology':'fit', 'biological_sciences':'fit', 'history':'fit', \\\n",
    "           'international_relations':'fit', 'law':'fit', 'philosophy':'fit', 'anthropology':'test',\\\n",
    "           'architecture_and_architectural_history':'test', 'botany_and_plant_sciences':'test', \\\n",
    "           'business':'test', 'classical_studies':'test', 'jewish_studies':'test', 'sociology':'test'}\n",
    "\n",
    "#replace spaces in disciplines list and map JSTOR discipline to disc_key dictionary\n",
    "disc['JSTOR_Discipline_L2'] = disc['JSTOR_Discipline_L2'].str.replace(' ', '_').str.lower()\n",
    "disc['dataset'] = disc['JSTOR_Discipline_L2'].map(disc_key)\n",
    "\n",
    "#drop null rows (aka fields of study not in disciplines I have selected)\n",
    "disc = disc[pd.notnull(disc['dataset'])]\n",
    "\n",
    "#evaluate\n",
    "print \"number of Fields of Study represented in each JSTOR discipline\"\n",
    "disc['JSTOR_Discipline_L2'].value_counts()"
   ]
  },
  {
   "cell_type": "code",
   "execution_count": 19,
   "metadata": {
    "collapsed": false
   },
   "outputs": [
    {
     "data": {
      "image/png": "[encoded data removed]",
      "text/plain": [
       "<matplotlib.figure.Figure at 0x1188301d0>"
      ]
     },
     "metadata": {},
     "output_type": "display_data"
    }
   ],
   "source": [
    "####### only need to do this for the first dataset\n",
    "\n",
    "#plot # of FOS in each discipline\n",
    "f = disc[['JSTOR_Discipline_L2','FOSDisplay',]].groupby('JSTOR_Discipline_L2').count().plot(color = 'c', kind = 'bar', figsize=(15,5))\n",
    "f = plt.title(\"Number of WHED fields in each JSTOR Discipline\", fontsize=20)"
   ]
  },
  {
   "cell_type": "markdown",
   "metadata": {},
   "source": [
    "### Join WHED-JSTOR Discipline map to the WHED dataset\n",
    "\n",
    "The WHED dataset contains a single row of data for every fields of study offered at an institution. So, a school with 5 fields of Study listed will be represented as 5 rows of the dataset. "
   ]
  },
  {
   "cell_type": "code",
   "execution_count": 20,
   "metadata": {
    "collapsed": false
   },
   "outputs": [
    {
     "name": "stdout",
     "output_type": "stream",
     "text": [
      "23\n"
     ]
    },
    {
     "data": {
      "text/html": [
       "<div>\n",
       "<table border=\"1\" class=\"dataframe\">\n",
       "  <thead>\n",
       "    <tr style=\"text-align: right;\">\n",
       "      <th></th>\n",
       "      <th>CRMID</th>\n",
       "      <th>african_american_studies</th>\n",
       "      <th>african_studies</th>\n",
       "      <th>anthropology</th>\n",
       "      <th>archaeology</th>\n",
       "      <th>architecture_and_architectural_history</th>\n",
       "      <th>art_and_art_history</th>\n",
       "      <th>biological_sciences</th>\n",
       "      <th>botany_and_plant_sciences</th>\n",
       "      <th>business</th>\n",
       "      <th>...</th>\n",
       "      <th>environmental_science</th>\n",
       "      <th>history</th>\n",
       "      <th>international_relations</th>\n",
       "      <th>jewish_studies</th>\n",
       "      <th>language_and_literature</th>\n",
       "      <th>law</th>\n",
       "      <th>philosophy</th>\n",
       "      <th>political_science</th>\n",
       "      <th>sociology</th>\n",
       "      <th>zoology</th>\n",
       "    </tr>\n",
       "  </thead>\n",
       "  <tbody>\n",
       "    <tr>\n",
       "      <th>0</th>\n",
       "      <td>000-187</td>\n",
       "      <td>NaN</td>\n",
       "      <td>NaN</td>\n",
       "      <td>NaN</td>\n",
       "      <td>NaN</td>\n",
       "      <td>NaN</td>\n",
       "      <td>NaN</td>\n",
       "      <td>NaN</td>\n",
       "      <td>NaN</td>\n",
       "      <td>1</td>\n",
       "      <td>...</td>\n",
       "      <td>NaN</td>\n",
       "      <td>NaN</td>\n",
       "      <td>NaN</td>\n",
       "      <td>NaN</td>\n",
       "      <td>NaN</td>\n",
       "      <td>NaN</td>\n",
       "      <td>NaN</td>\n",
       "      <td>NaN</td>\n",
       "      <td>NaN</td>\n",
       "      <td>NaN</td>\n",
       "    </tr>\n",
       "    <tr>\n",
       "      <th>1</th>\n",
       "      <td>000-191</td>\n",
       "      <td>NaN</td>\n",
       "      <td>NaN</td>\n",
       "      <td>NaN</td>\n",
       "      <td>NaN</td>\n",
       "      <td>NaN</td>\n",
       "      <td>NaN</td>\n",
       "      <td>1</td>\n",
       "      <td>NaN</td>\n",
       "      <td>NaN</td>\n",
       "      <td>...</td>\n",
       "      <td>NaN</td>\n",
       "      <td>NaN</td>\n",
       "      <td>NaN</td>\n",
       "      <td>NaN</td>\n",
       "      <td>NaN</td>\n",
       "      <td>NaN</td>\n",
       "      <td>NaN</td>\n",
       "      <td>NaN</td>\n",
       "      <td>NaN</td>\n",
       "      <td>NaN</td>\n",
       "    </tr>\n",
       "    <tr>\n",
       "      <th>2</th>\n",
       "      <td>000-192</td>\n",
       "      <td>NaN</td>\n",
       "      <td>NaN</td>\n",
       "      <td>1</td>\n",
       "      <td>NaN</td>\n",
       "      <td>NaN</td>\n",
       "      <td>NaN</td>\n",
       "      <td>2</td>\n",
       "      <td>NaN</td>\n",
       "      <td>1</td>\n",
       "      <td>...</td>\n",
       "      <td>NaN</td>\n",
       "      <td>1</td>\n",
       "      <td>NaN</td>\n",
       "      <td>NaN</td>\n",
       "      <td>1</td>\n",
       "      <td>1</td>\n",
       "      <td>1</td>\n",
       "      <td>1</td>\n",
       "      <td>1</td>\n",
       "      <td>NaN</td>\n",
       "    </tr>\n",
       "    <tr>\n",
       "      <th>3</th>\n",
       "      <td>000-194</td>\n",
       "      <td>NaN</td>\n",
       "      <td>NaN</td>\n",
       "      <td>NaN</td>\n",
       "      <td>NaN</td>\n",
       "      <td>NaN</td>\n",
       "      <td>NaN</td>\n",
       "      <td>NaN</td>\n",
       "      <td>NaN</td>\n",
       "      <td>NaN</td>\n",
       "      <td>...</td>\n",
       "      <td>NaN</td>\n",
       "      <td>NaN</td>\n",
       "      <td>NaN</td>\n",
       "      <td>NaN</td>\n",
       "      <td>NaN</td>\n",
       "      <td>1</td>\n",
       "      <td>NaN</td>\n",
       "      <td>NaN</td>\n",
       "      <td>NaN</td>\n",
       "      <td>NaN</td>\n",
       "    </tr>\n",
       "    <tr>\n",
       "      <th>4</th>\n",
       "      <td>000-196</td>\n",
       "      <td>NaN</td>\n",
       "      <td>NaN</td>\n",
       "      <td>NaN</td>\n",
       "      <td>NaN</td>\n",
       "      <td>NaN</td>\n",
       "      <td>NaN</td>\n",
       "      <td>NaN</td>\n",
       "      <td>NaN</td>\n",
       "      <td>2</td>\n",
       "      <td>...</td>\n",
       "      <td>NaN</td>\n",
       "      <td>NaN</td>\n",
       "      <td>2</td>\n",
       "      <td>NaN</td>\n",
       "      <td>1</td>\n",
       "      <td>2</td>\n",
       "      <td>NaN</td>\n",
       "      <td>NaN</td>\n",
       "      <td>NaN</td>\n",
       "      <td>NaN</td>\n",
       "    </tr>\n",
       "  </tbody>\n",
       "</table>\n",
       "<p>5 rows × 23 columns</p>\n",
       "</div>"
      ],
      "text/plain": [
       "     CRMID  african_american_studies  african_studies  anthropology  \\\n",
       "0  000-187                       NaN              NaN           NaN   \n",
       "1  000-191                       NaN              NaN           NaN   \n",
       "2  000-192                       NaN              NaN             1   \n",
       "3  000-194                       NaN              NaN           NaN   \n",
       "4  000-196                       NaN              NaN           NaN   \n",
       "\n",
       "   archaeology  architecture_and_architectural_history  art_and_art_history  \\\n",
       "0          NaN                                     NaN                  NaN   \n",
       "1          NaN                                     NaN                  NaN   \n",
       "2          NaN                                     NaN                  NaN   \n",
       "3          NaN                                     NaN                  NaN   \n",
       "4          NaN                                     NaN                  NaN   \n",
       "\n",
       "   biological_sciences  botany_and_plant_sciences  business   ...     \\\n",
       "0                  NaN                        NaN         1   ...      \n",
       "1                    1                        NaN       NaN   ...      \n",
       "2                    2                        NaN         1   ...      \n",
       "3                  NaN                        NaN       NaN   ...      \n",
       "4                  NaN                        NaN         2   ...      \n",
       "\n",
       "   environmental_science  history  international_relations  jewish_studies  \\\n",
       "0                    NaN      NaN                      NaN             NaN   \n",
       "1                    NaN      NaN                      NaN             NaN   \n",
       "2                    NaN        1                      NaN             NaN   \n",
       "3                    NaN      NaN                      NaN             NaN   \n",
       "4                    NaN      NaN                        2             NaN   \n",
       "\n",
       "   language_and_literature  law  philosophy  political_science  sociology  \\\n",
       "0                      NaN  NaN         NaN                NaN        NaN   \n",
       "1                      NaN  NaN         NaN                NaN        NaN   \n",
       "2                        1    1           1                  1          1   \n",
       "3                      NaN    1         NaN                NaN        NaN   \n",
       "4                        1    2         NaN                NaN        NaN   \n",
       "\n",
       "   zoology  \n",
       "0      NaN  \n",
       "1      NaN  \n",
       "2      NaN  \n",
       "3      NaN  \n",
       "4      NaN  \n",
       "\n",
       "[5 rows x 23 columns]"
      ]
     },
     "execution_count": 20,
     "metadata": {},
     "output_type": "execute_result"
    }
   ],
   "source": [
    "####### only need to do this for the first dataset\n",
    "\n",
    "\n",
    "#read in WHED dataset containing information on each Program of Study for each institution\n",
    "whed = pd.read_excel('WHED_Export_updated_3-23-16.xlsx')\n",
    "whed.head()\n",
    "\n",
    "\n",
    "#merge discipline map onto WHED data so that every row contains a column indicating which JSTOR discipline that program \n",
    "#of study belongs to (if program of study is within one of selected disciplines- else will be excluded)\n",
    "whed_data = pd.merge(whed, disc, how='inner', on='FOSDisplay')\n",
    "\n",
    "#select just WHED data columns we want to merge into JSTOR usage data\n",
    "whed_data = whed_data[['CRMID', 'FOSDisplay', 'JSTOR_Discipline_L2','dataset']]\n",
    "\n",
    "#drop duplicates\n",
    "whed_data= whed_data.drop_duplicates()\n",
    "\n",
    "\n",
    "#create pivot table on discipline column to get counts of Fields of Study for each school in each discipline-\n",
    "# will produce a table with each school in single row with each Discipline as a columns\n",
    "whed = pd.pivot_table(whed_data, aggfunc=len, columns = 'JSTOR_Discipline_L2', index='CRMID')\n",
    "\n",
    "\n",
    "#create new df without tiered indices\n",
    "whed_single = pd.DataFrame(whed.to_records())\n",
    "\n",
    "\n",
    "#get list of discipline names to use as column names on new dataframe\n",
    "list_disc = disc['JSTOR_Discipline_L2'].unique().tolist()\n",
    "list_desc = sorted(list_disc)\n",
    "new_columns = ['CRMID'] + list_desc\n",
    "\n",
    "\n",
    "#snip off any unnecessary columns and rename with list of JSTOR disciplines\n",
    "whed_single = whed_single.ix[:,:len(new_columns)]\n",
    "print len(whed_single.columns)\n",
    "whed_single.columns = new_columns\n",
    "\n",
    "#show new data table\n",
    "whed_single.head()"
   ]
  },
  {
   "cell_type": "code",
   "execution_count": 13,
   "metadata": {
    "collapsed": true
   },
   "outputs": [],
   "source": [
    "####### only need to do this for the first dataset\n",
    "\n",
    "#write to new doc so don't need to repeat transforms\n",
    "whed_single.to_csv('whed_columns.csv', index=False)"
   ]
  },
  {
   "cell_type": "markdown",
   "metadata": {},
   "source": [
    "### Join suppemental datasets onto  JSTOR usage dataset\n",
    "\n",
    "Usage volume is likely to vary across institutions, perhaps even those I consider to be categorically similar. In an attempt to account for this, I will include overall JSTOR usage statistics for each institution, to see what proportion of the total usage a single journal represents. For the same reason, I also include the usage for an institution for the collection of journals to which a certain journal belongs. "
   ]
  },
  {
   "cell_type": "code",
   "execution_count": 21,
   "metadata": {
    "collapsed": false
   },
   "outputs": [],
   "source": [
    "#join data for total JSTOR usage and usage for collection containing that journal \n",
    "total_usage = pd.read_csv('jstor_usage_by_ins.csv')\n",
    "collection_usage = pd.read_csv('jstor_usage_by_collection.csv')\n",
    "\n",
    "\n",
    "#each of these files has a caccess column- this needs to be renamed for clarity as there is a caccess value for \n",
    "#journal usage, total institution usage, and total collection usage.\n",
    "#for each of these datasets, keep only the two needed columns\n",
    "data['journal_access'] = data['caccess']\n",
    "total_usage['total_jstor_access'] = total_usage['caccess']\n",
    "collection_usage['collectionID'] = collection_usage['system_id'].map(str) + \", \" + collection_usage['collection'].map(str)\n",
    "collection_usage['collection_access'] = collection_usage['caccess']\n",
    "\n",
    "#remove unwanted columns\n",
    "total_usage = total_usage[['system_id', 'total_jstor_access']]\n",
    "c = collection_usage[['collectionID', 'collection_access']]\n",
    "data = data.drop('caccess', 1)\n",
    "\n",
    "#create column with institutionID and collectionName for mapping to collection usage\n",
    "data['collectionID'] = data['system_id'].map(str) + \", \" + data['collection'].map(str)\n",
    "\n",
    "#merge (left join) to keep institutions that I didn't gather total usage for- these are non-\n",
    "#higher ed communities- can drop them later but leave in, in case they provide interesting\n",
    "\n",
    "data = pd.merge(data, c, how='left', on='collectionID')\n",
    "\n",
    "data = pd.merge(data, total_usage, how='left', on='system_id')\n",
    "\n",
    "# add total number of WHED fields of study and total number of JSTOR collections\n",
    "add_data = pd.read_excel('FOS_INS_Counts_Total.xlsx')\n",
    "total_collections = pd.read_csv('JSTOR_Number_Collections.csv')\n",
    "data = pd.merge(data, add_data, how = 'left', on = 'system_id' )\n",
    "data = pd.merge(data, total_collections, how = 'left', on = 'system_id')"
   ]
  },
  {
   "cell_type": "code",
   "execution_count": 23,
   "metadata": {
    "collapsed": false
   },
   "outputs": [
    {
     "data": {
      "text/html": [
       "<div>\n",
       "<table border=\"1\" class=\"dataframe\">\n",
       "  <thead>\n",
       "    <tr style=\"text-align: right;\">\n",
       "      <th></th>\n",
       "      <th>collection</th>\n",
       "      <th>devnations</th>\n",
       "      <th>discipline</th>\n",
       "      <th>institution_classification</th>\n",
       "      <th>institution_community</th>\n",
       "      <th>institution_country</th>\n",
       "      <th>institution_rank</th>\n",
       "      <th>institution_state</th>\n",
       "      <th>journalid</th>\n",
       "      <th>publication</th>\n",
       "      <th>region</th>\n",
       "      <th>system_id</th>\n",
       "      <th>UniqueJournal</th>\n",
       "      <th>UniqueIns</th>\n",
       "      <th>journal_access</th>\n",
       "      <th>collectionID</th>\n",
       "      <th>collection_access</th>\n",
       "      <th>total_jstor_access</th>\n",
       "      <th>FOS_Total</th>\n",
       "      <th>umber_collections</th>\n",
       "    </tr>\n",
       "  </thead>\n",
       "  <tbody>\n",
       "    <tr>\n",
       "      <th>0</th>\n",
       "      <td>Arts &amp; Sciences I Collection</td>\n",
       "      <td>No</td>\n",
       "      <td>african_american_studies</td>\n",
       "      <td>Very_Large</td>\n",
       "      <td>Higher_Education</td>\n",
       "      <td>United_States</td>\n",
       "      <td>A</td>\n",
       "      <td>DC</td>\n",
       "      <td>10.2307/j100209</td>\n",
       "      <td>Journal of Black Studies</td>\n",
       "      <td>US_Canada_Mid_Atlantic</td>\n",
       "      <td>019-571</td>\n",
       "      <td>0</td>\n",
       "      <td>0</td>\n",
       "      <td>5619</td>\n",
       "      <td>019-571, Arts &amp; Sciences I Collection</td>\n",
       "      <td>45904</td>\n",
       "      <td>185045</td>\n",
       "      <td>81</td>\n",
       "      <td>13</td>\n",
       "    </tr>\n",
       "    <tr>\n",
       "      <th>1</th>\n",
       "      <td>Arts &amp; Sciences I Collection</td>\n",
       "      <td>No</td>\n",
       "      <td>african_american_studies</td>\n",
       "      <td>Very_Large</td>\n",
       "      <td>Higher_Education</td>\n",
       "      <td>Canada</td>\n",
       "      <td>C</td>\n",
       "      <td>Alberta</td>\n",
       "      <td>10.2307/j100241</td>\n",
       "      <td>Journal of Negro Education</td>\n",
       "      <td>US_Canada_West</td>\n",
       "      <td>019-262</td>\n",
       "      <td>0</td>\n",
       "      <td>0</td>\n",
       "      <td>5276</td>\n",
       "      <td>019-262, Arts &amp; Sciences I Collection</td>\n",
       "      <td>329221</td>\n",
       "      <td>1781906</td>\n",
       "      <td>330</td>\n",
       "      <td>20</td>\n",
       "    </tr>\n",
       "    <tr>\n",
       "      <th>2</th>\n",
       "      <td>Arts &amp; Sciences I Collection</td>\n",
       "      <td>No</td>\n",
       "      <td>african_american_studies</td>\n",
       "      <td>Very_Large</td>\n",
       "      <td>Higher_Education</td>\n",
       "      <td>United_States</td>\n",
       "      <td>C</td>\n",
       "      <td>FL</td>\n",
       "      <td>10.2307/j100241</td>\n",
       "      <td>Journal of Negro Education</td>\n",
       "      <td>US_Canada_South</td>\n",
       "      <td>019-360</td>\n",
       "      <td>1</td>\n",
       "      <td>0</td>\n",
       "      <td>4984</td>\n",
       "      <td>019-360, Arts &amp; Sciences I Collection</td>\n",
       "      <td>282999</td>\n",
       "      <td>1241239</td>\n",
       "      <td>98</td>\n",
       "      <td>9</td>\n",
       "    </tr>\n",
       "    <tr>\n",
       "      <th>3</th>\n",
       "      <td>Arts &amp; Sciences I Collection</td>\n",
       "      <td>No</td>\n",
       "      <td>african_american_studies</td>\n",
       "      <td>Very_Large</td>\n",
       "      <td>Higher_Education</td>\n",
       "      <td>United_States</td>\n",
       "      <td>A</td>\n",
       "      <td>PA</td>\n",
       "      <td>10.2307/j100241</td>\n",
       "      <td>Journal of Negro Education</td>\n",
       "      <td>US_Canada_Mid_Atlantic</td>\n",
       "      <td>019-345</td>\n",
       "      <td>1</td>\n",
       "      <td>0</td>\n",
       "      <td>4468</td>\n",
       "      <td>019-345, Arts &amp; Sciences I Collection</td>\n",
       "      <td>288496</td>\n",
       "      <td>1543975</td>\n",
       "      <td>46</td>\n",
       "      <td>22</td>\n",
       "    </tr>\n",
       "    <tr>\n",
       "      <th>4</th>\n",
       "      <td>Arts &amp; Sciences I Collection</td>\n",
       "      <td>No</td>\n",
       "      <td>african_american_studies</td>\n",
       "      <td>Medium</td>\n",
       "      <td>Higher_Education</td>\n",
       "      <td>United_States</td>\n",
       "      <td>A</td>\n",
       "      <td>NY</td>\n",
       "      <td>10.2307/j100016</td>\n",
       "      <td>Callaloo</td>\n",
       "      <td>US_Canada_East</td>\n",
       "      <td>020-445</td>\n",
       "      <td>0</td>\n",
       "      <td>0</td>\n",
       "      <td>4376</td>\n",
       "      <td>020-445, Arts &amp; Sciences I Collection</td>\n",
       "      <td>126388</td>\n",
       "      <td>751646</td>\n",
       "      <td>70</td>\n",
       "      <td>17</td>\n",
       "    </tr>\n",
       "  </tbody>\n",
       "</table>\n",
       "</div>"
      ],
      "text/plain": [
       "                     collection devnations                discipline  \\\n",
       "0  Arts & Sciences I Collection         No  african_american_studies   \n",
       "1  Arts & Sciences I Collection         No  african_american_studies   \n",
       "2  Arts & Sciences I Collection         No  african_american_studies   \n",
       "3  Arts & Sciences I Collection         No  african_american_studies   \n",
       "4  Arts & Sciences I Collection         No  african_american_studies   \n",
       "\n",
       "  institution_classification institution_community institution_country  \\\n",
       "0                 Very_Large      Higher_Education       United_States   \n",
       "1                 Very_Large      Higher_Education              Canada   \n",
       "2                 Very_Large      Higher_Education       United_States   \n",
       "3                 Very_Large      Higher_Education       United_States   \n",
       "4                     Medium      Higher_Education       United_States   \n",
       "\n",
       "  institution_rank institution_state        journalid  \\\n",
       "0                A                DC  10.2307/j100209   \n",
       "1                C           Alberta  10.2307/j100241   \n",
       "2                C                FL  10.2307/j100241   \n",
       "3                A                PA  10.2307/j100241   \n",
       "4                A                NY  10.2307/j100016   \n",
       "\n",
       "                  publication                  region system_id  \\\n",
       "0    Journal of Black Studies  US_Canada_Mid_Atlantic   019-571   \n",
       "1  Journal of Negro Education          US_Canada_West   019-262   \n",
       "2  Journal of Negro Education         US_Canada_South   019-360   \n",
       "3  Journal of Negro Education  US_Canada_Mid_Atlantic   019-345   \n",
       "4                    Callaloo          US_Canada_East   020-445   \n",
       "\n",
       "   UniqueJournal  UniqueIns  journal_access  \\\n",
       "0              0          0            5619   \n",
       "1              0          0            5276   \n",
       "2              1          0            4984   \n",
       "3              1          0            4468   \n",
       "4              0          0            4376   \n",
       "\n",
       "                            collectionID  collection_access  \\\n",
       "0  019-571, Arts & Sciences I Collection              45904   \n",
       "1  019-262, Arts & Sciences I Collection             329221   \n",
       "2  019-360, Arts & Sciences I Collection             282999   \n",
       "3  019-345, Arts & Sciences I Collection             288496   \n",
       "4  020-445, Arts & Sciences I Collection             126388   \n",
       "\n",
       "   total_jstor_access  FOS_Total  umber_collections  \n",
       "0              185045         81                 13  \n",
       "1             1781906        330                 20  \n",
       "2             1241239         98                  9  \n",
       "3             1543975         46                 22  \n",
       "4              751646         70                 17  "
      ]
     },
     "execution_count": 23,
     "metadata": {},
     "output_type": "execute_result"
    }
   ],
   "source": [
    "#write to csv\n",
    "filename = data_set + '_enriched.csv'\n",
    "data.to_csv(filename)\n",
    "\n",
    "#verify data\n",
    "data.drop(['institution_name', 'sitename'], 1).head()"
   ]
  },
  {
   "cell_type": "markdown",
   "metadata": {},
   "source": [
    " "
   ]
  },
  {
   "cell_type": "markdown",
   "metadata": {},
   "source": [
    "### Join WHED Fields of Study data to JSTOR usage data"
   ]
  },
  {
   "cell_type": "code",
   "execution_count": 24,
   "metadata": {
    "collapsed": false
   },
   "outputs": [],
   "source": [
    "#open jstor usage data\n",
    "data = pd.read_csv(filename)\n",
    "\n",
    "#open WHED fields of study data\n",
    "whed = pd.read_csv('whed_columns.csv')"
   ]
  },
  {
   "cell_type": "code",
   "execution_count": null,
   "metadata": {
    "collapsed": true
   },
   "outputs": [],
   "source": [
    "#only want WHED columns for the disciplines included in the train dataset\n",
    "whed_train = ['african_american_studies', 'art_and_art_history', 'economics', 'education',\\\n",
    "            'environmental_science', 'language_and_literature',\\\n",
    "           'political_science', 'zoology']\n",
    "\n",
    "whed_fit = ['african_studies', 'archaeology', 'biological_sciences', 'history', \\\n",
    "           'international_relations', 'law', 'philosophy']\n",
    "\n",
    "whed_test = ['anthropology','architecture_and_architectural_history', 'botany_and_plant_sciences', \\\n",
    "           'business', 'classical_studies', 'jewish_studies', 'sociology']\n",
    "\n",
    "\n",
    "\n",
    "\n",
    "\n",
    "\"\"\"\"\"\"\"\"\"\"\"\"\"\"\"\"\"\"\"\"\"\"\"\"\"\"\"\"\"\"\"\"\"\"\"\"\"\"\"select your discipline set\"\"\"\"\"\"\"\"\"\"\"\"\"\"\"\"\"\"\"\"\"\"\"\"\"\"\"\"\"\"\"\"\"\"\"\"\"\"\"\"\"\n",
    "\n",
    "\n",
    "whed_select = whed_test\n",
    "\n",
    "\n",
    "\"\"\"\"\"\"\"\"\"\"\"\"\"\"\"\"\"\"\"\"\"\"\"\"\"\"\"\"\"\"\"\"\"\"\"\"\"\"\"\"\"\"\"don't forget\"\"\"\"\"\"\"\"\"\"\"\"\"\"\"\"\"\"\"\"\"\"\"\"\"\"\"\"\"\"\"\"\"\n",
    "\n"
   ]
  },
  {
   "cell_type": "code",
   "execution_count": 1,
   "metadata": {
    "collapsed": false
   },
   "outputs": [],
   "source": [
    "\n",
    "#loop through list of disciplines to append data from WHED Fields of Study to JSTOR disciplines usage data. \n",
    "\n",
    "#doing as loop to only register number of fields for the relevant discipline- meaning, an institution\n",
    "#with a journal in education and a journal zoology will have two rows of data-- one with the zoology journal, zoology usage, \n",
    "#and zoology program information, and one with the education journal, education usage, and education program information.\n",
    "\n",
    "disc_data = []\n",
    "i = 0\n",
    "#while i < 8:\n",
    "while i <len(whed_select) :\n",
    "    discipline = whed_select[i]\n",
    "    whed_specific = whed[['CRMID', discipline]]\n",
    "    whed_specific['numberRelevantFOS'] = whed_specific[discipline]\n",
    "    whed_specific = whed_specific.drop(discipline, 1)\n",
    "    append_data = data[data['discipline'] == discipline]\n",
    "    append_data['CRMID'] = append_data['system_id']\n",
    "    append_data.drop('system_id', 1)\n",
    "    all_data = pd.merge(append_data, whed_specific, how='left', on='CRMID')\n",
    "    disc_data.append(all_data)\n",
    "    i += 1"
   ]
  },
  {
   "cell_type": "code",
   "execution_count": 28,
   "metadata": {
    "collapsed": false
   },
   "outputs": [],
   "source": [
    "#concatenate all discipline dataframes and write to new file\n",
    "full_data = pd.concat(disc_data)\n",
    "filename = data_set + '_normalized.csv'\n",
    "full_data.to_csv(filename, index=False)"
   ]
  },
  {
   "cell_type": "code",
   "execution_count": 401,
   "metadata": {
    "collapsed": false
   },
   "outputs": [
    {
     "data": {
      "text/html": [
       "<div>\n",
       "<table border=\"1\" class=\"dataframe\">\n",
       "  <thead>\n",
       "    <tr style=\"text-align: right;\">\n",
       "      <th></th>\n",
       "      <th>collection</th>\n",
       "      <th>devnations</th>\n",
       "      <th>discipline</th>\n",
       "      <th>institution_classification</th>\n",
       "      <th>institution_community</th>\n",
       "      <th>institution_country</th>\n",
       "      <th>institution_rank</th>\n",
       "      <th>institution_state</th>\n",
       "      <th>journalid</th>\n",
       "      <th>publication</th>\n",
       "      <th>...</th>\n",
       "      <th>total_jstor_access</th>\n",
       "      <th>FOS_Total</th>\n",
       "      <th>umber_collections</th>\n",
       "      <th>CRMID</th>\n",
       "      <th>numberRelevantFOS</th>\n",
       "      <th>has_whed_in_discipline</th>\n",
       "      <th>av_jounal_use</th>\n",
       "      <th>journal_in_collection</th>\n",
       "      <th>journal_in_total</th>\n",
       "      <th>FOS_prop</th>\n",
       "    </tr>\n",
       "  </thead>\n",
       "  <tbody>\n",
       "    <tr>\n",
       "      <th>74961</th>\n",
       "      <td>Arts &amp; Sciences II Collection</td>\n",
       "      <td>No</td>\n",
       "      <td>art_and_art_history</td>\n",
       "      <td>Very_Large</td>\n",
       "      <td>Higher_Education</td>\n",
       "      <td>United_States</td>\n",
       "      <td>A</td>\n",
       "      <td>NY</td>\n",
       "      <td>10.2307/j100058</td>\n",
       "      <td>American Journal of Archaeology</td>\n",
       "      <td>...</td>\n",
       "      <td>14.775302</td>\n",
       "      <td>359</td>\n",
       "      <td>23</td>\n",
       "      <td>019-621</td>\n",
       "      <td>10</td>\n",
       "      <td>True</td>\n",
       "      <td>27169</td>\n",
       "      <td>0.802923</td>\n",
       "      <td>0.691007</td>\n",
       "      <td>0.027855</td>\n",
       "    </tr>\n",
       "    <tr>\n",
       "      <th>74962</th>\n",
       "      <td>Arts &amp; Sciences I Collection</td>\n",
       "      <td>No</td>\n",
       "      <td>art_and_art_history</td>\n",
       "      <td>Large</td>\n",
       "      <td>Higher_Education</td>\n",
       "      <td>United_Kingdom</td>\n",
       "      <td>A</td>\n",
       "      <td>(null)</td>\n",
       "      <td>10.2307/j100377</td>\n",
       "      <td>Speculum</td>\n",
       "      <td>...</td>\n",
       "      <td>14.719124</td>\n",
       "      <td>81</td>\n",
       "      <td>16</td>\n",
       "      <td>020-148</td>\n",
       "      <td>5</td>\n",
       "      <td>True</td>\n",
       "      <td>20405</td>\n",
       "      <td>0.746002</td>\n",
       "      <td>0.674193</td>\n",
       "      <td>0.061728</td>\n",
       "    </tr>\n",
       "    <tr>\n",
       "      <th>74963</th>\n",
       "      <td>Arts &amp; Sciences I Collection</td>\n",
       "      <td>No</td>\n",
       "      <td>art_and_art_history</td>\n",
       "      <td>Large</td>\n",
       "      <td>Higher_Education</td>\n",
       "      <td>Australia</td>\n",
       "      <td>A</td>\n",
       "      <td>Victoria</td>\n",
       "      <td>10.2307/j100377</td>\n",
       "      <td>Speculum</td>\n",
       "      <td>...</td>\n",
       "      <td>14.856137</td>\n",
       "      <td>94</td>\n",
       "      <td>20</td>\n",
       "      <td>018-731</td>\n",
       "      <td>3</td>\n",
       "      <td>True</td>\n",
       "      <td>17158</td>\n",
       "      <td>0.738215</td>\n",
       "      <td>0.656309</td>\n",
       "      <td>0.031915</td>\n",
       "    </tr>\n",
       "    <tr>\n",
       "      <th>74964</th>\n",
       "      <td>Arts &amp; Sciences III Collection</td>\n",
       "      <td>No</td>\n",
       "      <td>art_and_art_history</td>\n",
       "      <td>Large</td>\n",
       "      <td>Higher_Education</td>\n",
       "      <td>United_Kingdom</td>\n",
       "      <td>C</td>\n",
       "      <td>(null)</td>\n",
       "      <td>10.2307/j100112</td>\n",
       "      <td>Burlington Magazine</td>\n",
       "      <td>...</td>\n",
       "      <td>13.526928</td>\n",
       "      <td>52</td>\n",
       "      <td>10</td>\n",
       "      <td>018-084</td>\n",
       "      <td>1</td>\n",
       "      <td>True</td>\n",
       "      <td>16734</td>\n",
       "      <td>0.804317</td>\n",
       "      <td>0.718951</td>\n",
       "      <td>0.019231</td>\n",
       "    </tr>\n",
       "    <tr>\n",
       "      <th>74965</th>\n",
       "      <td>Arts &amp; Sciences I Collection</td>\n",
       "      <td>No</td>\n",
       "      <td>art_and_art_history</td>\n",
       "      <td>Large</td>\n",
       "      <td>Higher_Education</td>\n",
       "      <td>United_Kingdom</td>\n",
       "      <td>A</td>\n",
       "      <td>(null)</td>\n",
       "      <td>10.2307/j100377</td>\n",
       "      <td>Speculum</td>\n",
       "      <td>...</td>\n",
       "      <td>14.632088</td>\n",
       "      <td>85</td>\n",
       "      <td>22</td>\n",
       "      <td>020-104</td>\n",
       "      <td>1</td>\n",
       "      <td>True</td>\n",
       "      <td>14780</td>\n",
       "      <td>0.732960</td>\n",
       "      <td>0.656163</td>\n",
       "      <td>0.011765</td>\n",
       "    </tr>\n",
       "  </tbody>\n",
       "</table>\n",
       "<p>5 rows × 27 columns</p>\n",
       "</div>"
      ],
      "text/plain": [
       "                           collection devnations           discipline  \\\n",
       "74961   Arts & Sciences II Collection         No  art_and_art_history   \n",
       "74962    Arts & Sciences I Collection         No  art_and_art_history   \n",
       "74963    Arts & Sciences I Collection         No  art_and_art_history   \n",
       "74964  Arts & Sciences III Collection         No  art_and_art_history   \n",
       "74965    Arts & Sciences I Collection         No  art_and_art_history   \n",
       "\n",
       "      institution_classification institution_community institution_country  \\\n",
       "74961                 Very_Large      Higher_Education       United_States   \n",
       "74962                      Large      Higher_Education      United_Kingdom   \n",
       "74963                      Large      Higher_Education           Australia   \n",
       "74964                      Large      Higher_Education      United_Kingdom   \n",
       "74965                      Large      Higher_Education      United_Kingdom   \n",
       "\n",
       "      institution_rank institution_state        journalid  \\\n",
       "74961                A                NY  10.2307/j100058   \n",
       "74962                A            (null)  10.2307/j100377   \n",
       "74963                A          Victoria  10.2307/j100377   \n",
       "74964                C            (null)  10.2307/j100112   \n",
       "74965                A            (null)  10.2307/j100377   \n",
       "\n",
       "                           publication    ...    total_jstor_access FOS_Total  \\\n",
       "74961  American Journal of Archaeology    ...             14.775302       359   \n",
       "74962                         Speculum    ...             14.719124        81   \n",
       "74963                         Speculum    ...             14.856137        94   \n",
       "74964              Burlington Magazine    ...             13.526928        52   \n",
       "74965                         Speculum    ...             14.632088        85   \n",
       "\n",
       "       umber_collections    CRMID  numberRelevantFOS has_whed_in_discipline  \\\n",
       "74961                 23  019-621                 10                   True   \n",
       "74962                 16  020-148                  5                   True   \n",
       "74963                 20  018-731                  3                   True   \n",
       "74964                 10  018-084                  1                   True   \n",
       "74965                 22  020-104                  1                   True   \n",
       "\n",
       "       av_jounal_use  journal_in_collection  journal_in_total  FOS_prop  \n",
       "74961          27169               0.802923          0.691007  0.027855  \n",
       "74962          20405               0.746002          0.674193  0.061728  \n",
       "74963          17158               0.738215          0.656309  0.031915  \n",
       "74964          16734               0.804317          0.718951  0.019231  \n",
       "74965          14780               0.732960          0.656163  0.011765  \n",
       "\n",
       "[5 rows x 27 columns]"
      ]
     },
     "execution_count": 401,
     "metadata": {},
     "output_type": "execute_result"
    }
   ],
   "source": [
    "#check on data\n",
    "full_data[full_data['discipline']=='art_and_art_history'].drop(['institution_name', 'sitename'], 1).head()"
   ]
  },
  {
   "cell_type": "markdown",
   "metadata": {},
   "source": [
    "#### About the Data\n",
    "A single row of this dataset represents usage for a single journal at a single institution. In each row there is information about the institution and its programs of study.\n",
    "<br>\n",
    "<br>\n",
    "<b>journal_access:</b> usage of the specific journal at the institution\n",
    "<br>\n",
    "<br>\n",
    "<b>collection_access:</b> usage for the collection containing that journal at the institution\n",
    "<br>\n",
    "<br>\n",
    "<b>total_jstor_access:</b> usage for all JSTOR content at the institution\n",
    "<br>\n",
    "<br>\n",
    "<b>number_collections:</b> number of JSTOR collections the institution subscribes to\n",
    "<br>\n",
    "<br>\n",
    "<b>numberRelevantFOS:</b> number of WHED Fields of Study at the institution within the discipline of the journal\n",
    "<br>\n",
    "<br>\n",
    "<b>FOS_Total:</b> number of WHED Fields of Study at the institution across any discipline\n"
   ]
  },
  {
   "cell_type": "markdown",
   "metadata": {},
   "source": [
    "## Training and fitting data"
   ]
  },
  {
   "cell_type": "code",
   "execution_count": 8,
   "metadata": {
    "collapsed": false
   },
   "outputs": [],
   "source": [
    "#open jstor usage data for train, fit, or test data\n",
    "\n",
    "data = pd.read_csv(filename)\n"
   ]
  },
  {
   "cell_type": "code",
   "execution_count": 239,
   "metadata": {
    "collapsed": false
   },
   "outputs": [
    {
     "name": "stdout",
     "output_type": "stream",
     "text": [
      "<class 'pandas.core.frame.DataFrame'>\n",
      "Int64Index: 2431598 entries, 0 to 2431597\n",
      "Data columns (total 25 columns):\n",
      "Unnamed: 0                    int64\n",
      "collection                    object\n",
      "devnations                    object\n",
      "discipline                    object\n",
      "institution_classification    object\n",
      "institution_community         object\n",
      "institution_country           object\n",
      "institution_name              object\n",
      "institution_rank              object\n",
      "institution_state             object\n",
      "journalid                     object\n",
      "publication                   object\n",
      "region                        object\n",
      "sitename                      object\n",
      "system_id                     object\n",
      "UniqueJournal                 int64\n",
      "UniqueIns                     int64\n",
      "journal_access                int64\n",
      "collectionID                  object\n",
      "collection_access             float64\n",
      "total_jstor_access            float64\n",
      "FOS_Total                     float64\n",
      "umber_collections             int64\n",
      "CRMID                         object\n",
      "numberRelevantFOS             float64\n",
      "dtypes: float64(4), int64(5), object(16)\n",
      "memory usage: 482.3+ MB\n"
     ]
    }
   ],
   "source": [
    "data.info()"
   ]
  },
  {
   "cell_type": "code",
   "execution_count": 253,
   "metadata": {
    "collapsed": false
   },
   "outputs": [],
   "source": [
    "#fill in any null values for number of fields of study with 0 and tranfsform numeric data\n",
    "\n",
    "#drop null rows- don't want to just fill with average because don't know what that could do to predictive model. \n",
    "full_data = data[data['journalid'].notnull()]\n",
    "full_data = full_data[full_data['total_jstor_access'].notnull()]\n",
    "full_data = full_data[full_data['collection_access'].notnull()]\n",
    "full_data=full_data.drop('Unnamed: 0', 1)\n",
    "\n",
    "#use log transformations instead of scalar so that can reverse engineer actual usage predictions at the end- \n",
    "#plus confirmed in trials there was not a substantial difference in model performance \n",
    "#using log transformation versus scalar transformation\n",
    "full_data['total_jstor_access'] = np.log(full_data['total_jstor_access'])\n",
    "full_data['collection_access'] = np.log(full_data['collection_access'])\n",
    "full_data['journal_access'] = np.log(full_data['journal_access'])\n",
    "full_data['journal_in_collection'] = full_data['journal_access'] / full_data['collection_access']\n",
    "full_data['journal_in_total'] = full_data['journal_access'] / full_data['total_jstor_access']\n",
    "full_data['FOS_prop'] = full_data['numberRelevantFOS']/full_data['FOS_Total']"
   ]
  },
  {
   "cell_type": "code",
   "execution_count": 337,
   "metadata": {
    "collapsed": false
   },
   "outputs": [
    {
     "data": {
      "text/plain": [
       "Index([u'collection', u'devnations', u'discipline',\n",
       "       u'institution_classification', u'institution_community',\n",
       "       u'institution_country', u'institution_name', u'institution_rank',\n",
       "       u'institution_state', u'journalid', u'publication', u'region',\n",
       "       u'sitename', u'system_id', u'UniqueJournal', u'UniqueIns',\n",
       "       u'journal_access', u'collectionID', u'collection_access',\n",
       "       u'total_jstor_access', u'FOS_Total', u'umber_collections', u'CRMID',\n",
       "       u'numberRelevantFOS', u'has_whed_in_discipline', u'av_jounal_use',\n",
       "       u'journal_in_collection', u'journal_in_total', u'FOS_prop'],\n",
       "      dtype='object')"
      ]
     },
     "execution_count": 337,
     "metadata": {},
     "output_type": "execute_result"
    }
   ],
   "source": [
    "full_data.columns"
   ]
  },
  {
   "cell_type": "markdown",
   "metadata": {
    "collapsed": true
   },
   "source": [
    "## Results. \n",
    "\n",
    "I divided my evaluation into two categories: 1) predicting usage for journals within a particular JSTOR discipline, and 2) predicting, based on usage of journals within a particular discipline, whether that institution has WHED Fields of Study in that discipline. \n",
    "\n",
    "For 1), I tested a variety of linear regression models, including LinearRegression, Ridge, and Lasso models with a variety of Alpha scores (from .0001 to 10000). There was no appreciable increase n score using either Ridge or Lasso as opposed to LinearRegression, so I will present the results of the linear regression.\n",
    "\n",
    "For 2), I first tried to use linear regression to predict how many WHED Fields of Study in that discipline an institution would have. These scores were unsatisfactory (r2 value of .15 at best). Given the range of possible values (from 0 to 22 WHED Fields of study) and the known variation in quality of WHED data reported, this was not particularly surprising. The predictive success was nearly twice as high when just trying to predict whether an institution had, or did not have, any WHED Fields of Study in a discipline. However, .25 is still not an exciting r2 score.\n",
    "\n",
    "Given the increased success in a binary predictive model for WHED fields of study, I then modeled the data using Logistic Regression, which much better results: recall of .57 for all data, and .78 recall when the lowest usage datapoints were removed.\n"
   ]
  },
  {
   "cell_type": "markdown",
   "metadata": {},
   "source": [
    "#### Predicting usage for journals within a particular JSTOR discipline"
   ]
  },
  {
   "cell_type": "code",
   "execution_count": 254,
   "metadata": {
    "collapsed": false
   },
   "outputs": [
    {
     "data": {
      "text/html": [
       "<div>\n",
       "<table border=\"1\" class=\"dataframe\">\n",
       "  <thead>\n",
       "    <tr style=\"text-align: right;\">\n",
       "      <th></th>\n",
       "      <th>UniqueJournal</th>\n",
       "      <th>UniqueIns</th>\n",
       "      <th>journal_access</th>\n",
       "      <th>collection_access</th>\n",
       "      <th>total_jstor_access</th>\n",
       "      <th>FOS_Total</th>\n",
       "      <th>umber_collections</th>\n",
       "      <th>numberRelevantFOS</th>\n",
       "      <th>journal_in_collection</th>\n",
       "      <th>journal_in_total</th>\n",
       "      <th>FOS_prop</th>\n",
       "    </tr>\n",
       "  </thead>\n",
       "  <tbody>\n",
       "    <tr>\n",
       "      <th>count</th>\n",
       "      <td>26994.000000</td>\n",
       "      <td>26994.000000</td>\n",
       "      <td>26994.000000</td>\n",
       "      <td>26994.000000</td>\n",
       "      <td>26994.000000</td>\n",
       "      <td>21104.000000</td>\n",
       "      <td>26994.000000</td>\n",
       "      <td>20806.000000</td>\n",
       "      <td>26924.000000</td>\n",
       "      <td>26991.000000</td>\n",
       "      <td>20806.000000</td>\n",
       "    </tr>\n",
       "    <tr>\n",
       "      <th>mean</th>\n",
       "      <td>0.999637</td>\n",
       "      <td>0.955674</td>\n",
       "      <td>1.934795</td>\n",
       "      <td>7.383660</td>\n",
       "      <td>9.473979</td>\n",
       "      <td>51.028478</td>\n",
       "      <td>9.867711</td>\n",
       "      <td>0.905075</td>\n",
       "      <td>0.236550</td>\n",
       "      <td>0.189850</td>\n",
       "      <td>0.022076</td>\n",
       "    </tr>\n",
       "    <tr>\n",
       "      <th>std</th>\n",
       "      <td>0.007088</td>\n",
       "      <td>0.157163</td>\n",
       "      <td>1.274426</td>\n",
       "      <td>2.132115</td>\n",
       "      <td>2.217857</td>\n",
       "      <td>47.951096</td>\n",
       "      <td>6.127985</td>\n",
       "      <td>1.658628</td>\n",
       "      <td>0.121475</td>\n",
       "      <td>0.106964</td>\n",
       "      <td>0.053555</td>\n",
       "    </tr>\n",
       "    <tr>\n",
       "      <th>min</th>\n",
       "      <td>0.333333</td>\n",
       "      <td>0.000000</td>\n",
       "      <td>0.000000</td>\n",
       "      <td>0.000000</td>\n",
       "      <td>0.000000</td>\n",
       "      <td>1.000000</td>\n",
       "      <td>1.000000</td>\n",
       "      <td>0.000000</td>\n",
       "      <td>0.000000</td>\n",
       "      <td>0.000000</td>\n",
       "      <td>0.000000</td>\n",
       "    </tr>\n",
       "    <tr>\n",
       "      <th>25%</th>\n",
       "      <td>1.000000</td>\n",
       "      <td>1.000000</td>\n",
       "      <td>0.876145</td>\n",
       "      <td>6.089046</td>\n",
       "      <td>8.090709</td>\n",
       "      <td>23.000000</td>\n",
       "      <td>5.000000</td>\n",
       "      <td>0.000000</td>\n",
       "      <td>0.148280</td>\n",
       "      <td>0.106607</td>\n",
       "      <td>0.000000</td>\n",
       "    </tr>\n",
       "    <tr>\n",
       "      <th>50%</th>\n",
       "      <td>1.000000</td>\n",
       "      <td>1.000000</td>\n",
       "      <td>1.809715</td>\n",
       "      <td>7.670735</td>\n",
       "      <td>9.583213</td>\n",
       "      <td>39.000000</td>\n",
       "      <td>8.000000</td>\n",
       "      <td>0.000000</td>\n",
       "      <td>0.241204</td>\n",
       "      <td>0.190276</td>\n",
       "      <td>0.000000</td>\n",
       "    </tr>\n",
       "    <tr>\n",
       "      <th>75%</th>\n",
       "      <td>1.000000</td>\n",
       "      <td>1.000000</td>\n",
       "      <td>2.861069</td>\n",
       "      <td>8.921902</td>\n",
       "      <td>11.042970</td>\n",
       "      <td>63.000000</td>\n",
       "      <td>16.000000</td>\n",
       "      <td>1.000000</td>\n",
       "      <td>0.327928</td>\n",
       "      <td>0.268088</td>\n",
       "      <td>0.025641</td>\n",
       "    </tr>\n",
       "    <tr>\n",
       "      <th>max</th>\n",
       "      <td>1.000000</td>\n",
       "      <td>1.000000</td>\n",
       "      <td>7.410370</td>\n",
       "      <td>13.036780</td>\n",
       "      <td>14.856137</td>\n",
       "      <td>661.000000</td>\n",
       "      <td>23.000000</td>\n",
       "      <td>22.000000</td>\n",
       "      <td>1.000000</td>\n",
       "      <td>0.735569</td>\n",
       "      <td>1.000000</td>\n",
       "    </tr>\n",
       "  </tbody>\n",
       "</table>\n",
       "</div>"
      ],
      "text/plain": [
       "       UniqueJournal     UniqueIns  journal_access  collection_access  \\\n",
       "count   26994.000000  26994.000000    26994.000000       26994.000000   \n",
       "mean        0.999637      0.955674        1.934795           7.383660   \n",
       "std         0.007088      0.157163        1.274426           2.132115   \n",
       "min         0.333333      0.000000        0.000000           0.000000   \n",
       "25%         1.000000      1.000000        0.876145           6.089046   \n",
       "50%         1.000000      1.000000        1.809715           7.670735   \n",
       "75%         1.000000      1.000000        2.861069           8.921902   \n",
       "max         1.000000      1.000000        7.410370          13.036780   \n",
       "\n",
       "       total_jstor_access     FOS_Total  umber_collections  numberRelevantFOS  \\\n",
       "count        26994.000000  21104.000000       26994.000000       20806.000000   \n",
       "mean             9.473979     51.028478           9.867711           0.905075   \n",
       "std              2.217857     47.951096           6.127985           1.658628   \n",
       "min              0.000000      1.000000           1.000000           0.000000   \n",
       "25%              8.090709     23.000000           5.000000           0.000000   \n",
       "50%              9.583213     39.000000           8.000000           0.000000   \n",
       "75%             11.042970     63.000000          16.000000           1.000000   \n",
       "max             14.856137    661.000000          23.000000          22.000000   \n",
       "\n",
       "       journal_in_collection  journal_in_total      FOS_prop  \n",
       "count           26924.000000      26991.000000  20806.000000  \n",
       "mean                0.236550          0.189850      0.022076  \n",
       "std                 0.121475          0.106964      0.053555  \n",
       "min                 0.000000          0.000000      0.000000  \n",
       "25%                 0.148280          0.106607      0.000000  \n",
       "50%                 0.241204          0.190276      0.000000  \n",
       "75%                 0.327928          0.268088      0.025641  \n",
       "max                 1.000000          0.735569      1.000000  "
      ]
     },
     "execution_count": 254,
     "metadata": {},
     "output_type": "execute_result"
    }
   ],
   "source": [
    "#group data by average journal usage in a particular discipline- compared to non-aggregated data in testing, \n",
    "#the r2 value is nearly .2 higher for the aggregated data\n",
    "\n",
    "\n",
    "agg_data = full_data.groupby(['sitename', 'discipline', 'institution_classification', 'institution_country',\\\n",
    "                             'institution_rank', 'institution_state', 'devnations']).mean()\n",
    "agg_data = agg_data.reset_index()\n",
    "\n",
    "agg_data.describe()"
   ]
  },
  {
   "cell_type": "markdown",
   "metadata": {},
   "source": [
    "### What does this look like graphically?"
   ]
  },
  {
   "cell_type": "code",
   "execution_count": 408,
   "metadata": {
    "collapsed": false
   },
   "outputs": [
    {
     "data": {
      "image/png": "[encoded data removed]",
      "text/plain": [
       "<matplotlib.figure.Figure at 0x11ab70810>"
      ]
     },
     "metadata": {},
     "output_type": "display_data"
    }
   ],
   "source": [
    "#usage across disciplines is relatively the same- which could be part of the reason that predicting power \n",
    "#is not much better when discipline-specific information is added; usage seems discipline agnostic.\n",
    "graph_agg = agg_data.fillna(0)\n",
    "graph_agg['has_whed_in_discipline'] = graph_agg['numberRelevantFOS']!= 0\n",
    "graph_agg['av_jounal_use'] = graph_agg['journal_access']\n",
    "f = graph_agg[['av_jounal_use','discipline', 'has_whed_in_discipline']].groupby(['discipline', 'has_whed_in_discipline']).mean()\\\n",
    ".plot(color = ['r', 'b'], kind = 'bar', figsize=(15,5))\n",
    "f = plt.title(\"Average usage in each discipline (aggregated)\", fontsize=20)"
   ]
  },
  {
   "cell_type": "markdown",
   "metadata": {},
   "source": [
    "There is a clear trend in general that institutions with WHED Fields of Study in a particular discipline have, on average, higher usage (and some have substantially higher usage).\n",
    "<br>\n",
    "<br>\n",
    "<br>\n",
    "What does this difference look like overall?"
   ]
  },
  {
   "cell_type": "code",
   "execution_count": 410,
   "metadata": {
    "collapsed": false
   },
   "outputs": [
    {
     "data": {
      "image/png": "[encoded data removed]",
      "text/plain": [
       "<matplotlib.figure.Figure at 0x188c73610>"
      ]
     },
     "metadata": {},
     "output_type": "display_data"
    }
   ],
   "source": [
    "graph_agg = agg_data.fillna(0)\n",
    "graph_agg['has_whed_in_discipline'] = graph_agg['numberRelevantFOS']!= 0\n",
    "graph_agg['av_jounal_use'] = graph_agg['journal_access']\n",
    "f = graph_agg[['av_jounal_use','has_whed_in_discipline']].groupby(['has_whed_in_discipline']).mean()\\\n",
    ".plot(color = ['r', 'b'], kind = 'bar', figsize=(5,3))\n",
    "f = plt.title(\"Average usage across journals (aggregated by discipline)\", fontsize=20)"
   ]
  },
  {
   "cell_type": "code",
   "execution_count": 411,
   "metadata": {
    "collapsed": false
   },
   "outputs": [
    {
     "data": {
      "image/png": "[encoded data removed]",
      "text/plain": [
       "<matplotlib.figure.Figure at 0x11ab700d0>"
      ]
     },
     "metadata": {},
     "output_type": "display_data"
    }
   ],
   "source": [
    "journal_av = full_data\n",
    "journal_av['av_jounal_use'] = journal_av['journal_access']\n",
    "journal_av['has_whed_in_discipline'] = journal_av['numberRelevantFOS']!= 0\n",
    "f = journal_av[['av_jounal_use','discipline', 'has_whed_in_discipline']].groupby(['discipline', 'has_whed_in_discipline']).mean()\\\n",
    ".plot(color = ['r', 'b'], kind = 'bar', figsize=(15,5))\n",
    "f = plt.title(\"Average usage in each discipline (non-aggregated)\", fontsize=20)"
   ]
  },
  {
   "cell_type": "code",
   "execution_count": 413,
   "metadata": {
    "collapsed": false
   },
   "outputs": [
    {
     "data": {
      "image/png": "[encoded data removed]",
      "text/plain": [
       "<matplotlib.figure.Figure at 0x1742abf50>"
      ]
     },
     "metadata": {},
     "output_type": "display_data"
    }
   ],
   "source": [
    "journal_av = full_data\n",
    "journal_av['av_jounal_use'] = journal_av['journal_access']\n",
    "f = journal_av[['av_jounal_use','discipline','has_whed_in_discipline']].groupby('has_whed_in_discipline').mean()\\\n",
    ".plot(color = ['r', 'b'], kind = 'bar', figsize=(5,3))\n",
    "f = plt.title(\"Average usage for journals (non-aggregated)\", fontsize=20)"
   ]
  },
  {
   "cell_type": "markdown",
   "metadata": {},
   "source": [
    "Given these graphs, it does look like whether or not an institution has fields of study in a discipline impacts usage, and the trend is more noticeable when usage is aggregated according to usage within a discipline at an institution (instead of by individual journals)."
   ]
  },
  {
   "cell_type": "markdown",
   "metadata": {},
   "source": [
    "### Modeling"
   ]
  },
  {
   "cell_type": "code",
   "execution_count": 148,
   "metadata": {
    "collapsed": false
   },
   "outputs": [
    {
     "name": "stdout",
     "output_type": "stream",
     "text": [
      "without any JSTOR usage info:\n",
      "features:  Index([                  u'sitename',                 u'discipline',\n",
      "       u'institution_classification',        u'institution_country',\n",
      "                 u'institution_rank',          u'institution_state',\n",
      "                       u'devnations',                  u'FOS_Total',\n",
      "                u'umber_collections',          u'numberRelevantFOS',\n",
      "                         u'FOS_prop'],\n",
      "      dtype='object')\n",
      "Mean Absolute Error: 0.660105781446\n",
      "r2 value: 0.551979402612\n",
      " \n",
      "with total JSTOR usage known:\n",
      "features:  Index([                  u'sitename',                 u'discipline',\n",
      "       u'institution_classification',        u'institution_country',\n",
      "                 u'institution_rank',          u'institution_state',\n",
      "                       u'devnations',         u'total_jstor_access',\n",
      "                        u'FOS_Total',          u'umber_collections',\n",
      "                u'numberRelevantFOS',                   u'FOS_prop'],\n",
      "      dtype='object')\n",
      "Mean Absolute Error: 0.50461600773\n",
      "r2 value: 0.733742843751\n",
      " \n",
      "with total JSTOR usage and JSTOR Collection usage known:\n",
      "features:  Index([                  u'sitename',                 u'discipline',\n",
      "       u'institution_classification',        u'institution_country',\n",
      "                 u'institution_rank',          u'institution_state',\n",
      "                       u'devnations',          u'collection_access',\n",
      "               u'total_jstor_access',                  u'FOS_Total',\n",
      "                u'umber_collections',          u'numberRelevantFOS',\n",
      "                         u'FOS_prop'],\n",
      "      dtype='object')\n",
      "Mean Absolute Error: 0.467893883136\n",
      "r2 value: 0.76756748106\n"
     ]
    }
   ],
   "source": [
    "#predict an institution's average usage for journals in a specific discipline\n",
    "#without knowing anything about general JSTOR usage\n",
    "\n",
    "test_data = agg_data.fillna(0)\n",
    "test_data = test_data.drop('journal_in_collection', 1)\n",
    "test_data = test_data.drop('UniqueJournal', 1)\n",
    "test_data = test_data.drop('UniqueIns', 1)\n",
    "test_data = test_data.drop('journal_in_total', 1)\n",
    "test_data = test_data.drop('collection_access', 1)\n",
    "test_data = test_data.drop('total_jstor_access', 1)\n",
    "# test_data = test_data.drop('av_jounal_use', 1)\n",
    "\n",
    "dv = DictVectorizer(sparse=True)\n",
    "testing_data = test_data.drop('journal_access', 1)\n",
    "X = dv.fit_transform(testing_data.T.to_dict().values())\n",
    "y=test_data['journal_access']\n",
    "print \"without any JSTOR usage info:\"\n",
    "print \"features: \", testing_data.columns\n",
    "print \"Mean Absolute Error:\", -cross_val_score(LinearRegression(), X, y, cv=3, scoring='mean_absolute_error').mean()\n",
    "print \"r2 value:\", cross_val_score(LinearRegression(), X, y, cv=3, scoring='r2').mean()\n",
    "print \" \"\n",
    "\n",
    "#predict an institution's average usage for journals in a specific discipline\n",
    "#only knowing total JSTOR usage- basically, get in ballpark of how much the institution uses JSTOR\n",
    "\n",
    "test_data = agg_data.fillna(0)\n",
    "test_data = test_data.drop('journal_in_collection', 1)\n",
    "test_data = test_data.drop('UniqueJournal', 1)\n",
    "test_data = test_data.drop('UniqueIns', 1)\n",
    "test_data = test_data.drop('journal_in_total', 1)\n",
    "test_data = test_data.drop('collection_access', 1)\n",
    "\n",
    "dv = DictVectorizer(sparse=True)\n",
    "testing_data = test_data.drop('journal_access', 1)\n",
    "X = dv.fit_transform(testing_data.T.to_dict().values())\n",
    "y=test_data['journal_access']\n",
    "print \"with total JSTOR usage known:\"\n",
    "print \"features: \", testing_data.columns\n",
    "print \"Mean Absolute Error:\", -cross_val_score(LinearRegression(), X, y, cv=3, scoring='mean_absolute_error').mean()\n",
    "print \"r2 value:\", cross_val_score(LinearRegression(), X, y, cv=3, scoring='r2').mean()\n",
    "print \" \"\n",
    "\n",
    "#predict average usage in a discipline \n",
    "#knowing total JSTOR usage and usage for a particular collection\n",
    "test_data = agg_data.fillna(0)\n",
    "test_data = test_data.drop('journal_in_collection', 1)\n",
    "test_data = test_data.drop('UniqueJournal', 1)\n",
    "test_data = test_data.drop('UniqueIns', 1)\n",
    "test_data = test_data.drop('journal_in_total', 1)\n",
    "\n",
    "dv = DictVectorizer(sparse=True)\n",
    "testing_data = test_data.drop('journal_access', 1)\n",
    "X = dv.fit_transform(testing_data.T.to_dict().values())\n",
    "y=test_data['journal_access']\n",
    "\n",
    "print \"with total JSTOR usage and JSTOR Collection usage known:\"\n",
    "print \"features: \", testing_data.columns\n",
    "print \"Mean Absolute Error:\", -cross_val_score(LinearRegression(), X, y, cv=3, scoring='mean_absolute_error').mean()\n",
    "print \"r2 value:\", cross_val_score(LinearRegression(), X, y, cv=3, scoring='r2').mean()\n"
   ]
  },
  {
   "cell_type": "markdown",
   "metadata": {
    "collapsed": false
   },
   "source": [
    "#### The above analysis includes information on WHED Fields of Study. What happens to the score when the WHED data is removed?"
   ]
  },
  {
   "cell_type": "code",
   "execution_count": 397,
   "metadata": {
    "collapsed": false
   },
   "outputs": [
    {
     "name": "stdout",
     "output_type": "stream",
     "text": [
      "Same analysis as above, but without WHED information\n",
      "features:  Index([u'sitename', u'discipline', u'institution_classification',\n",
      "       u'institution_country', u'institution_rank', u'institution_state',\n",
      "       u'devnations', u'collection_access', u'total_jstor_access',\n",
      "       u'umber_collections', u'has_whed_in_discipline'],\n",
      "      dtype='object')\n",
      "Mean Absolute Error: 0.471724636239\n",
      "r2 value: 0.763775685695\n"
     ]
    }
   ],
   "source": [
    "#predict average usage in a discipline \n",
    "#knowing total JSTOR usage and usage for a particular collection, and without FOS information\n",
    "\n",
    "test_data = agg_data.fillna(0)\n",
    "test_data = test_data.drop('journal_in_collection', 1)\n",
    "test_data = test_data.drop('UniqueJournal', 1)\n",
    "test_data = test_data.drop('UniqueIns', 1)\n",
    "test_data = test_data.drop('journal_in_total', 1)\n",
    "test_data = test_data.drop('numberRelevantFOS', 1)\n",
    "test_data = test_data.drop('FOS_Total', 1)\n",
    "test_data = test_data.drop('FOS_prop', 1)\n",
    "test_data = test_data.drop('av_jounal_use', 1)\n",
    "\n",
    "\n",
    "dv = DictVectorizer(sparse=True)\n",
    "testing_data = test_data.drop('journal_access', 1)\n",
    "X = dv.fit_transform(testing_data.T.to_dict().values())\n",
    "y=test_data['journal_access']\n",
    "print \"Same analysis as above, but without WHED information\"\n",
    "print \"features: \", testing_data.columns\n",
    "print \"Mean Absolute Error:\", -cross_val_score(LinearRegression(), X, y, cv=3, scoring='mean_absolute_error').mean()\n",
    "print \"r2 value:\", cross_val_score(LinearRegression(), X, y, cv=3, scoring='r2').mean()"
   ]
  },
  {
   "cell_type": "markdown",
   "metadata": {},
   "source": [
    "### Preliminary Results\n",
    "\n",
    "\n",
    "There is very little difference in predictive power with or without WHED data for a given institution. \n",
    "\n",
    "The most powerful usage predictor is JSTOR usage overall. Usage within a particular collection provides a bit of a boost, as does location of institution (country and state) and size of institution (classification).\n",
    "\n",
    "Surprisingly, institution size is not a good predictor for content use within a discipline- indicating that institution size is not a powerful indicator of JSTOR usage."
   ]
  },
  {
   "cell_type": "markdown",
   "metadata": {},
   "source": [
    "### Predicting if an institution has programs of study in a particular discipline, based on their usage\n",
    "\n",
    "In exploration, Logistic Regression proved a far better model than logistic regression (i.e., it was not possible to find a good model to predict how many WHED Fields of Study an institution may have, but it is possible to predict if they have or do not have WHED Fields of Study in a discipline)."
   ]
  },
  {
   "cell_type": "code",
   "execution_count": 255,
   "metadata": {
    "collapsed": false
   },
   "outputs": [
    {
     "name": "stdout",
     "output_type": "stream",
     "text": [
      "predict whether institution has or does not have WHED FOS in discipline\n",
      "features:  Index([u'sitename', u'discipline', u'institution_classification',\n",
      "       u'institution_country', u'institution_rank', u'institution_state',\n",
      "       u'devnations', u'journal_access', u'collection_access',\n",
      "       u'total_jstor_access', u'umber_collections'],\n",
      "      dtype='object')\n",
      "Recall: 0.575067192078\n",
      "Precision: 0.660212125035\n",
      " \n",
      "predict whether institution has or does not have WHED FOS in discipline, with low usage removed\n",
      "features:  Index([u'sitename', u'discipline', u'institution_classification',\n",
      "       u'institution_country', u'institution_rank', u'institution_state',\n",
      "       u'devnations', u'journal_access', u'collection_access',\n",
      "       u'total_jstor_access', u'umber_collections'],\n",
      "      dtype='object')\n",
      "Recall: 0.844258112329\n",
      "Precision: 0.69729265942\n",
      " \n"
     ]
    }
   ],
   "source": [
    "#predict whether an institution has or does not have WHED FOS in a discipline\n",
    "test_data = agg_data.fillna(0)\n",
    "test_data['has_whed'] = test_data['numberRelevantFOS'] != 0\n",
    "test_data = test_data.drop('journal_in_collection', 1)\n",
    "test_data = test_data.drop('UniqueJournal', 1)\n",
    "test_data = test_data.drop('UniqueIns', 1)\n",
    "test_data = test_data.drop('journal_in_total', 1)\n",
    "test_data = test_data.drop('FOS_Total', 1)\n",
    "test_data = test_data.drop('FOS_prop', 1)\n",
    "test_data = test_data.drop('numberRelevantFOS', 1)\n",
    "\n",
    "dv = DictVectorizer(sparse=True)\n",
    "testing_data = test_data.drop('has_whed', 1)\n",
    "X = dv.fit_transform(testing_data.T.to_dict().values())\n",
    "y=test_data['has_whed']\n",
    "print \"predict whether institution has or does not have WHED FOS in discipline\"\n",
    "print \"features: \", testing_data.columns\n",
    "print \"Recall:\", cross_val_score(LogisticRegression(), X, y, cv=3, scoring='recall').mean()\n",
    "print \"Precision:\", cross_val_score(LogisticRegression(), X, y, cv=3, scoring='precision').mean()\n",
    "print \" \"\n",
    "\n",
    "\n",
    "#drop instances where journals usage is low\n",
    "test_data = agg_data.fillna(0)\n",
    "test_data['has_whed'] = test_data['numberRelevantFOS'] != 0\n",
    "test_data = test_data.drop('journal_in_collection', 1)\n",
    "test_data = test_data.drop('UniqueJournal', 1)\n",
    "test_data = test_data.drop('UniqueIns', 1)\n",
    "test_data = test_data.drop('journal_in_total', 1)\n",
    "test_data = test_data.drop('FOS_Total', 1)\n",
    "test_data = test_data.drop('FOS_prop', 1)\n",
    "test_data = test_data.drop('numberRelevantFOS', 1)\n",
    "test_data = test_data.drop(test_data[test_data.journal_access < 2].index)\n",
    "\n",
    "dv = DictVectorizer(sparse=True)\n",
    "testing_data = test_data.drop('has_whed', 1)\n",
    "X = dv.fit_transform(testing_data.T.to_dict().values())\n",
    "y=test_data['has_whed']\n",
    "print \"predict whether institution has or does not have WHED FOS in discipline, with low usage removed\"\n",
    "print \"features: \", testing_data.columns\n",
    "print \"Recall:\", cross_val_score(LogisticRegression(class_weight={False: .4, True:.5}), X, y, cv=3, scoring='recall').mean()\n",
    "print \"Precision:\", cross_val_score(LogisticRegression(class_weight={False: .4, True:.5}), X, y, cv=3, scoring='precision').mean()\n",
    "print \" \""
   ]
  },
  {
   "cell_type": "markdown",
   "metadata": {},
   "source": [
    "### Preliminary Results\n",
    "\n",
    "\n",
    "Removing instances of very low usage increase the precision (a bit) and recall (a lot) of the model. In further refining this model, I would work to increase recall without any loss in precision (.69 is about as low as could be considered acceptable for this use case). "
   ]
  },
  {
   "cell_type": "markdown",
   "metadata": {},
   "source": [
    "<br>\n",
    "<br>\n",
    "<br>\n",
    "## Fitting and Testing Data\n",
    "<br>\n",
    "### Predicting Usage: Linear Regression"
   ]
  },
  {
   "cell_type": "code",
   "execution_count": 256,
   "metadata": {
    "collapsed": false
   },
   "outputs": [
    {
     "data": {
      "text/html": [
       "<div>\n",
       "<table border=\"1\" class=\"dataframe\">\n",
       "  <thead>\n",
       "    <tr style=\"text-align: right;\">\n",
       "      <th></th>\n",
       "      <th>UniqueJournal</th>\n",
       "      <th>UniqueIns</th>\n",
       "      <th>journal_access</th>\n",
       "      <th>collection_access</th>\n",
       "      <th>total_jstor_access</th>\n",
       "      <th>FOS_Total</th>\n",
       "      <th>numberRelevantFOS</th>\n",
       "      <th>journal_in_collection</th>\n",
       "      <th>journal_in_total</th>\n",
       "      <th>FOS_prop</th>\n",
       "      <th>number_collections</th>\n",
       "    </tr>\n",
       "  </thead>\n",
       "  <tbody>\n",
       "    <tr>\n",
       "      <th>count</th>\n",
       "      <td>57104.000000</td>\n",
       "      <td>57104.000000</td>\n",
       "      <td>57104.000000</td>\n",
       "      <td>57104.000000</td>\n",
       "      <td>57104.000000</td>\n",
       "      <td>45221.000000</td>\n",
       "      <td>44674.000000</td>\n",
       "      <td>56930.000000</td>\n",
       "      <td>57092.000000</td>\n",
       "      <td>44674.000000</td>\n",
       "      <td>57104.000000</td>\n",
       "    </tr>\n",
       "    <tr>\n",
       "      <th>mean</th>\n",
       "      <td>0.999608</td>\n",
       "      <td>0.964044</td>\n",
       "      <td>2.038902</td>\n",
       "      <td>7.478153</td>\n",
       "      <td>9.674503</td>\n",
       "      <td>52.529179</td>\n",
       "      <td>0.752227</td>\n",
       "      <td>0.248516</td>\n",
       "      <td>0.197997</td>\n",
       "      <td>0.015951</td>\n",
       "      <td>10.104966</td>\n",
       "    </tr>\n",
       "    <tr>\n",
       "      <th>std</th>\n",
       "      <td>0.005560</td>\n",
       "      <td>0.150030</td>\n",
       "      <td>1.354403</td>\n",
       "      <td>2.098350</td>\n",
       "      <td>2.161292</td>\n",
       "      <td>48.926950</td>\n",
       "      <td>1.289619</td>\n",
       "      <td>0.137497</td>\n",
       "      <td>0.118681</td>\n",
       "      <td>0.035466</td>\n",
       "      <td>6.025178</td>\n",
       "    </tr>\n",
       "    <tr>\n",
       "      <th>min</th>\n",
       "      <td>0.580000</td>\n",
       "      <td>0.000000</td>\n",
       "      <td>0.000000</td>\n",
       "      <td>0.000000</td>\n",
       "      <td>0.000000</td>\n",
       "      <td>1.000000</td>\n",
       "      <td>0.000000</td>\n",
       "      <td>0.000000</td>\n",
       "      <td>0.000000</td>\n",
       "      <td>0.000000</td>\n",
       "      <td>1.000000</td>\n",
       "    </tr>\n",
       "    <tr>\n",
       "      <th>25%</th>\n",
       "      <td>1.000000</td>\n",
       "      <td>1.000000</td>\n",
       "      <td>0.902561</td>\n",
       "      <td>6.233738</td>\n",
       "      <td>8.326517</td>\n",
       "      <td>24.000000</td>\n",
       "      <td>0.000000</td>\n",
       "      <td>0.149541</td>\n",
       "      <td>0.107312</td>\n",
       "      <td>0.000000</td>\n",
       "      <td>5.000000</td>\n",
       "    </tr>\n",
       "    <tr>\n",
       "      <th>50%</th>\n",
       "      <td>1.000000</td>\n",
       "      <td>1.000000</td>\n",
       "      <td>1.920776</td>\n",
       "      <td>7.791799</td>\n",
       "      <td>9.801898</td>\n",
       "      <td>40.000000</td>\n",
       "      <td>0.000000</td>\n",
       "      <td>0.247671</td>\n",
       "      <td>0.194586</td>\n",
       "      <td>0.000000</td>\n",
       "      <td>9.000000</td>\n",
       "    </tr>\n",
       "    <tr>\n",
       "      <th>75%</th>\n",
       "      <td>1.000000</td>\n",
       "      <td>1.000000</td>\n",
       "      <td>3.037045</td>\n",
       "      <td>8.991332</td>\n",
       "      <td>11.200500</td>\n",
       "      <td>65.000000</td>\n",
       "      <td>1.000000</td>\n",
       "      <td>0.338390</td>\n",
       "      <td>0.276002</td>\n",
       "      <td>0.023256</td>\n",
       "      <td>16.000000</td>\n",
       "    </tr>\n",
       "    <tr>\n",
       "      <th>max</th>\n",
       "      <td>1.000000</td>\n",
       "      <td>1.000000</td>\n",
       "      <td>8.531096</td>\n",
       "      <td>12.721223</td>\n",
       "      <td>14.856137</td>\n",
       "      <td>661.000000</td>\n",
       "      <td>18.000000</td>\n",
       "      <td>1.000000</td>\n",
       "      <td>1.000000</td>\n",
       "      <td>1.000000</td>\n",
       "      <td>23.000000</td>\n",
       "    </tr>\n",
       "  </tbody>\n",
       "</table>\n",
       "</div>"
      ],
      "text/plain": [
       "       UniqueJournal     UniqueIns  journal_access  collection_access  \\\n",
       "count   57104.000000  57104.000000    57104.000000       57104.000000   \n",
       "mean        0.999608      0.964044        2.038902           7.478153   \n",
       "std         0.005560      0.150030        1.354403           2.098350   \n",
       "min         0.580000      0.000000        0.000000           0.000000   \n",
       "25%         1.000000      1.000000        0.902561           6.233738   \n",
       "50%         1.000000      1.000000        1.920776           7.791799   \n",
       "75%         1.000000      1.000000        3.037045           8.991332   \n",
       "max         1.000000      1.000000        8.531096          12.721223   \n",
       "\n",
       "       total_jstor_access     FOS_Total  numberRelevantFOS  \\\n",
       "count        57104.000000  45221.000000       44674.000000   \n",
       "mean             9.674503     52.529179           0.752227   \n",
       "std              2.161292     48.926950           1.289619   \n",
       "min              0.000000      1.000000           0.000000   \n",
       "25%              8.326517     24.000000           0.000000   \n",
       "50%              9.801898     40.000000           0.000000   \n",
       "75%             11.200500     65.000000           1.000000   \n",
       "max             14.856137    661.000000          18.000000   \n",
       "\n",
       "       journal_in_collection  journal_in_total      FOS_prop  \\\n",
       "count           56930.000000      57092.000000  44674.000000   \n",
       "mean                0.248516          0.197997      0.015951   \n",
       "std                 0.137497          0.118681      0.035466   \n",
       "min                 0.000000          0.000000      0.000000   \n",
       "25%                 0.149541          0.107312      0.000000   \n",
       "50%                 0.247671          0.194586      0.000000   \n",
       "75%                 0.338390          0.276002      0.023256   \n",
       "max                 1.000000          1.000000      1.000000   \n",
       "\n",
       "       number_collections  \n",
       "count        57104.000000  \n",
       "mean            10.104966  \n",
       "std              6.025178  \n",
       "min              1.000000  \n",
       "25%              5.000000  \n",
       "50%              9.000000  \n",
       "75%             16.000000  \n",
       "max             23.000000  "
      ]
     },
     "execution_count": 256,
     "metadata": {},
     "output_type": "execute_result"
    }
   ],
   "source": [
    "#combine fit and test data- add column indicating dataset to be able to ID where to divide them later\n",
    "fitted_data = pd.read_csv('fit_normalized.csv')\n",
    "fitted_data['dataset'] = 'fit'\n",
    "test_data = pd.read_csv('test_normalized.csv')\n",
    "test_data['dataset'] = 'test'\n",
    "df = [fitted_data, test_data]\n",
    "fit_data = pd.concat(df)\n",
    "fit_data = fit_data[fit_data['journalid'].notnull()]\n",
    "fit_data = fit_data[fit_data['total_jstor_access'].notnull()]\n",
    "fit_data = fit_data[fit_data['collection_access'].notnull()]\n",
    "fit_data = fit_data.drop('Unnamed: 0', 1)\n",
    "fit_data['total_jstor_access'] = np.log(fit_data['total_jstor_access'])\n",
    "fit_data['collection_access'] = np.log(fit_data['collection_access'])\n",
    "fit_data['journal_access'] = np.log(fit_data['journal_access'])\n",
    "fit_data['journal_in_collection'] = fit_data['journal_access'] / fit_data['collection_access']\n",
    "fit_data['journal_in_total'] = fit_data['journal_access'] / fit_data['total_jstor_access']\n",
    "fit_data['FOS_prop'] = fit_data['numberRelevantFOS']/fit_data['FOS_Total']\n",
    "fit_data['number_collections'] = fit_data['umber_collections']\n",
    "fit_data = fit_data.drop('umber_collections', 1)\n",
    "\n",
    "fit_agg_data = fit_data.groupby(['sitename', 'discipline', 'institution_classification', 'institution_country',\\\n",
    "                             'institution_rank', 'institution_state', 'devnations', 'dataset']).mean()\n",
    "fit_agg_data = fit_agg_data.reset_index()\n",
    "fit_agg_data.describe()"
   ]
  },
  {
   "cell_type": "code",
   "execution_count": 257,
   "metadata": {
    "collapsed": false
   },
   "outputs": [
    {
     "data": {
      "text/html": [
       "<div>\n",
       "<table border=\"1\" class=\"dataframe\">\n",
       "  <thead>\n",
       "    <tr style=\"text-align: right;\">\n",
       "      <th></th>\n",
       "      <th>discipline</th>\n",
       "      <th>institution_classification</th>\n",
       "      <th>institution_country</th>\n",
       "      <th>institution_rank</th>\n",
       "      <th>institution_state</th>\n",
       "      <th>devnations</th>\n",
       "      <th>dataset</th>\n",
       "      <th>UniqueJournal</th>\n",
       "      <th>UniqueIns</th>\n",
       "      <th>journal_access</th>\n",
       "      <th>collection_access</th>\n",
       "      <th>total_jstor_access</th>\n",
       "      <th>FOS_Total</th>\n",
       "      <th>numberRelevantFOS</th>\n",
       "      <th>journal_in_collection</th>\n",
       "      <th>journal_in_total</th>\n",
       "      <th>FOS_prop</th>\n",
       "      <th>number_collections</th>\n",
       "    </tr>\n",
       "  </thead>\n",
       "  <tbody>\n",
       "    <tr>\n",
       "      <th>0</th>\n",
       "      <td>african_studies</td>\n",
       "      <td>(null)</td>\n",
       "      <td>United_States</td>\n",
       "      <td>(null)</td>\n",
       "      <td>NY</td>\n",
       "      <td>(null)</td>\n",
       "      <td>fit</td>\n",
       "      <td>1</td>\n",
       "      <td>0.981481</td>\n",
       "      <td>2.669456</td>\n",
       "      <td>9.258784</td>\n",
       "      <td>11.853034</td>\n",
       "      <td>NaN</td>\n",
       "      <td>NaN</td>\n",
       "      <td>0.284755</td>\n",
       "      <td>0.225213</td>\n",
       "      <td>NaN</td>\n",
       "      <td>13</td>\n",
       "    </tr>\n",
       "    <tr>\n",
       "      <th>23951</th>\n",
       "      <td>law</td>\n",
       "      <td>Very_Small</td>\n",
       "      <td>Turkey</td>\n",
       "      <td>D</td>\n",
       "      <td>(null)</td>\n",
       "      <td>No</td>\n",
       "      <td>fit</td>\n",
       "      <td>1</td>\n",
       "      <td>1.000000</td>\n",
       "      <td>1.398226</td>\n",
       "      <td>6.461127</td>\n",
       "      <td>9.113168</td>\n",
       "      <td>40</td>\n",
       "      <td>2</td>\n",
       "      <td>0.215314</td>\n",
       "      <td>0.153429</td>\n",
       "      <td>0.050000</td>\n",
       "      <td>12</td>\n",
       "    </tr>\n",
       "    <tr>\n",
       "      <th>23949</th>\n",
       "      <td>international_relations</td>\n",
       "      <td>Very_Small</td>\n",
       "      <td>Turkey</td>\n",
       "      <td>D</td>\n",
       "      <td>(null)</td>\n",
       "      <td>No</td>\n",
       "      <td>fit</td>\n",
       "      <td>1</td>\n",
       "      <td>1.000000</td>\n",
       "      <td>1.937451</td>\n",
       "      <td>7.023774</td>\n",
       "      <td>9.113168</td>\n",
       "      <td>40</td>\n",
       "      <td>1</td>\n",
       "      <td>0.272818</td>\n",
       "      <td>0.212599</td>\n",
       "      <td>0.025000</td>\n",
       "      <td>12</td>\n",
       "    </tr>\n",
       "    <tr>\n",
       "      <th>23948</th>\n",
       "      <td>history</td>\n",
       "      <td>Very_Small</td>\n",
       "      <td>Turkey</td>\n",
       "      <td>D</td>\n",
       "      <td>(null)</td>\n",
       "      <td>No</td>\n",
       "      <td>fit</td>\n",
       "      <td>1</td>\n",
       "      <td>1.000000</td>\n",
       "      <td>1.398928</td>\n",
       "      <td>6.589176</td>\n",
       "      <td>9.113168</td>\n",
       "      <td>40</td>\n",
       "      <td>1</td>\n",
       "      <td>0.204981</td>\n",
       "      <td>0.153506</td>\n",
       "      <td>0.025000</td>\n",
       "      <td>12</td>\n",
       "    </tr>\n",
       "    <tr>\n",
       "      <th>45543</th>\n",
       "      <td>law</td>\n",
       "      <td>Very_Small</td>\n",
       "      <td>United_States</td>\n",
       "      <td>D</td>\n",
       "      <td>HI</td>\n",
       "      <td>No</td>\n",
       "      <td>fit</td>\n",
       "      <td>1</td>\n",
       "      <td>1.000000</td>\n",
       "      <td>1.721670</td>\n",
       "      <td>7.580989</td>\n",
       "      <td>9.576649</td>\n",
       "      <td>14</td>\n",
       "      <td>1</td>\n",
       "      <td>0.226709</td>\n",
       "      <td>0.179778</td>\n",
       "      <td>0.071429</td>\n",
       "      <td>7</td>\n",
       "    </tr>\n",
       "  </tbody>\n",
       "</table>\n",
       "</div>"
      ],
      "text/plain": [
       "                    discipline institution_classification institution_country  \\\n",
       "0              african_studies                     (null)       United_States   \n",
       "23951                      law                 Very_Small              Turkey   \n",
       "23949  international_relations                 Very_Small              Turkey   \n",
       "23948                  history                 Very_Small              Turkey   \n",
       "45543                      law                 Very_Small       United_States   \n",
       "\n",
       "      institution_rank institution_state devnations dataset  UniqueJournal  \\\n",
       "0               (null)                NY     (null)     fit              1   \n",
       "23951                D            (null)         No     fit              1   \n",
       "23949                D            (null)         No     fit              1   \n",
       "23948                D            (null)         No     fit              1   \n",
       "45543                D                HI         No     fit              1   \n",
       "\n",
       "       UniqueIns  journal_access  collection_access  total_jstor_access  \\\n",
       "0       0.981481        2.669456           9.258784           11.853034   \n",
       "23951   1.000000        1.398226           6.461127            9.113168   \n",
       "23949   1.000000        1.937451           7.023774            9.113168   \n",
       "23948   1.000000        1.398928           6.589176            9.113168   \n",
       "45543   1.000000        1.721670           7.580989            9.576649   \n",
       "\n",
       "       FOS_Total  numberRelevantFOS  journal_in_collection  journal_in_total  \\\n",
       "0            NaN                NaN               0.284755          0.225213   \n",
       "23951         40                  2               0.215314          0.153429   \n",
       "23949         40                  1               0.272818          0.212599   \n",
       "23948         40                  1               0.204981          0.153506   \n",
       "45543         14                  1               0.226709          0.179778   \n",
       "\n",
       "       FOS_prop  number_collections  \n",
       "0           NaN                  13  \n",
       "23951  0.050000                  12  \n",
       "23949  0.025000                  12  \n",
       "23948  0.025000                  12  \n",
       "45543  0.071429                   7  "
      ]
     },
     "execution_count": 257,
     "metadata": {},
     "output_type": "execute_result"
    }
   ],
   "source": [
    "#sort-by dataset so can split according to length of fit and test\n",
    "fit_agg_data = fit_agg_data.sort_values('dataset')\n",
    "fit_agg_data.drop('sitename', 1).head()"
   ]
  },
  {
   "cell_type": "code",
   "execution_count": 5,
   "metadata": {
    "collapsed": false
   },
   "outputs": [
    {
     "name": "stdout",
     "output_type": "stream",
     "text": [
      "full data:\n",
      "(57104, 5636)\n",
      " \n",
      "fit data:\n",
      "Features: (29417, 5636)\n",
      "y: 29417\n",
      " \n",
      "test data:\n",
      "Features: (27687, 5636)\n",
      "values to predict: 27687\n"
     ]
    }
   ],
   "source": [
    "fit_data = fit_agg_data.fillna(0)\n",
    "fit_data = fit_data.drop('journal_in_collection', 1)\n",
    "fit_data = fit_data.drop('UniqueJournal', 1)\n",
    "fit_data = fit_data.drop('UniqueIns', 1)\n",
    "fit_data = fit_data.drop('journal_in_total', 1)\n",
    "\n",
    "#drop value to predict- will later split into testing and training\n",
    "fitting_data = fit_data.drop('journal_access', 1)\n",
    "\n",
    "\n",
    "dv = DictVectorizer(sparse=True)\n",
    "\n",
    "X = dv.fit_transform(fitting_data.T.to_dict().values())\n",
    "\n",
    "X_fit = X[:len(fit_agg_data[fit_agg_data['dataset']=='fit'])]\n",
    "X_test = X[len(fit_agg_data[fit_agg_data['dataset']=='fit']):]\n",
    "\n",
    "y_fit = fit_data['journal_access'][:len(fit_agg_data[fit_agg_data['dataset']=='fit'])]\n",
    "actual_values = fit_data['journal_access'][len(fit_agg_data[fit_agg_data['dataset']=='fit']):]\n",
    "\n",
    "#confirm X and y for two datasets are the same\n",
    "print \"full data:\"\n",
    "print X.shape\n",
    "print \" \"\n",
    "\n",
    "print \"fit data:\"\n",
    "print \"Features:\", X_fit.shape\n",
    "print \"y:\", len(y_fit)\n",
    "print \" \"\n",
    "\n",
    "print \"test data:\"\n",
    "print \"Features:\", X_test.shape\n",
    "print \"values to predict:\", len(actual_values)"
   ]
  },
  {
   "cell_type": "code",
   "execution_count": 209,
   "metadata": {
    "collapsed": true
   },
   "outputs": [],
   "source": [
    "model = LinearRegression()\n",
    "model.fit(X_fit, y_fit)\n",
    "predict_values = model.predict(X_test)"
   ]
  },
  {
   "cell_type": "code",
   "execution_count": 211,
   "metadata": {
    "collapsed": false
   },
   "outputs": [],
   "source": [
    "new_df = pd.DataFrame(actual_values)\n",
    "new_df['predict_values'] = predict_values\n",
    "new_df.columns = ['actual_values', 'predict_values']\n",
    "new_df['error'] = new_df['predict_values'] - new_df['actual_values']\n",
    "new_df = new_df.reset_index().drop('index', 1)"
   ]
  },
  {
   "cell_type": "code",
   "execution_count": 212,
   "metadata": {
    "collapsed": true
   },
   "outputs": [],
   "source": [
    "#write predictions and actual values to document\n",
    "new_df.to_csv('predictions.csv', index=False)"
   ]
  },
  {
   "cell_type": "code",
   "execution_count": 5,
   "metadata": {
    "collapsed": false
   },
   "outputs": [
    {
     "data": {
      "text/html": [
       "<div>\n",
       "<table border=\"1\" class=\"dataframe\">\n",
       "  <thead>\n",
       "    <tr style=\"text-align: right;\">\n",
       "      <th></th>\n",
       "      <th>actual_values</th>\n",
       "      <th>predict_values</th>\n",
       "      <th>error</th>\n",
       "    </tr>\n",
       "  </thead>\n",
       "  <tbody>\n",
       "    <tr>\n",
       "      <th>0</th>\n",
       "      <td>1.021827</td>\n",
       "      <td>1.073885</td>\n",
       "      <td>0.052058</td>\n",
       "    </tr>\n",
       "    <tr>\n",
       "      <th>1</th>\n",
       "      <td>1.292474</td>\n",
       "      <td>1.276701</td>\n",
       "      <td>-0.015773</td>\n",
       "    </tr>\n",
       "    <tr>\n",
       "      <th>2</th>\n",
       "      <td>2.079442</td>\n",
       "      <td>0.825528</td>\n",
       "      <td>-1.253913</td>\n",
       "    </tr>\n",
       "    <tr>\n",
       "      <th>3</th>\n",
       "      <td>1.209400</td>\n",
       "      <td>1.223869</td>\n",
       "      <td>0.014469</td>\n",
       "    </tr>\n",
       "    <tr>\n",
       "      <th>4</th>\n",
       "      <td>3.521143</td>\n",
       "      <td>2.986803</td>\n",
       "      <td>-0.534340</td>\n",
       "    </tr>\n",
       "  </tbody>\n",
       "</table>\n",
       "</div>"
      ],
      "text/plain": [
       "   actual_values  predict_values     error\n",
       "0       1.021827        1.073885  0.052058\n",
       "1       1.292474        1.276701 -0.015773\n",
       "2       2.079442        0.825528 -1.253913\n",
       "3       1.209400        1.223869  0.014469\n",
       "4       3.521143        2.986803 -0.534340"
      ]
     },
     "execution_count": 5,
     "metadata": {},
     "output_type": "execute_result"
    }
   ],
   "source": [
    "new_df.head()"
   ]
  },
  {
   "cell_type": "markdown",
   "metadata": {},
   "source": [
    "### Graph Results"
   ]
  },
  {
   "cell_type": "code",
   "execution_count": 32,
   "metadata": {
    "collapsed": false
   },
   "outputs": [
    {
     "name": "stdout",
     "output_type": "stream",
     "text": [
      "Mean Absolute Error: 0.500879394209\n"
     ]
    },
    {
     "data": {
      "image/png": "[encoded data removed]",
      "text/plain": [
       "<matplotlib.figure.Figure at 0x11ca1f3d0>"
      ]
     },
     "metadata": {},
     "output_type": "display_data"
    }
   ],
   "source": [
    "predicted = new_df['predict_values']\n",
    "actual = new_df['actual_values']\n",
    "\n",
    "bins = np.linspace(1, 10, 100)\n",
    "f = plt.hist(predicted, bins=bins)\n",
    "#f = plt.hist(actual, bins=bins, color='r')\n",
    "print \"Mean Absolute Error:\", np.abs(new_df['error']).mean()\n"
   ]
  },
  {
   "cell_type": "code",
   "execution_count": 23,
   "metadata": {
    "collapsed": false
   },
   "outputs": [
    {
     "data": {
      "image/png": "[encoded data removed]",
      "text/plain": [
       "<matplotlib.figure.Figure at 0x103b73450>"
      ]
     },
     "metadata": {},
     "output_type": "display_data"
    }
   ],
   "source": [
    "f = plt.hist(actual, bins=bins, color='r')"
   ]
  },
  {
   "cell_type": "markdown",
   "metadata": {},
   "source": [
    "### Conclusions:\n",
    "In this model, predicted usage is clustered around mean usage when compared to actual usage. This seems to imply the model does not have enough features to better represent the actual data, but rather is relying heavily on mean values. \n",
    "\n",
    "In the future, exploring what other features could be added to this dataset to increase the variance explained by the model would be worthwhile. Looking at specific WHED Fields of Study, instead of aggregated number within a discipline, would be a good place to begin this exploration."
   ]
  },
  {
   "cell_type": "markdown",
   "metadata": {},
   "source": [
    "## Predicting Fields of Study: Logistic Regression"
   ]
  },
  {
   "cell_type": "code",
   "execution_count": 16,
   "metadata": {
    "collapsed": false
   },
   "outputs": [
    {
     "data": {
      "text/html": [
       "<div>\n",
       "<table border=\"1\" class=\"dataframe\">\n",
       "  <thead>\n",
       "    <tr style=\"text-align: right;\">\n",
       "      <th></th>\n",
       "      <th>discipline</th>\n",
       "      <th>institution_classification</th>\n",
       "      <th>institution_country</th>\n",
       "      <th>institution_rank</th>\n",
       "      <th>institution_state</th>\n",
       "      <th>devnations</th>\n",
       "      <th>dataset</th>\n",
       "      <th>UniqueJournal</th>\n",
       "      <th>UniqueIns</th>\n",
       "      <th>journal_access</th>\n",
       "      <th>collection_access</th>\n",
       "      <th>total_jstor_access</th>\n",
       "      <th>FOS_Total</th>\n",
       "      <th>numberRelevantFOS</th>\n",
       "      <th>journal_in_collection</th>\n",
       "      <th>journal_in_total</th>\n",
       "      <th>FOS_prop</th>\n",
       "      <th>number_collections</th>\n",
       "    </tr>\n",
       "  </thead>\n",
       "  <tbody>\n",
       "    <tr>\n",
       "      <th>0</th>\n",
       "      <td>african_studies</td>\n",
       "      <td>(null)</td>\n",
       "      <td>United_States</td>\n",
       "      <td>(null)</td>\n",
       "      <td>NY</td>\n",
       "      <td>(null)</td>\n",
       "      <td>fit</td>\n",
       "      <td>1</td>\n",
       "      <td>0.981481</td>\n",
       "      <td>2.669456</td>\n",
       "      <td>9.258784</td>\n",
       "      <td>11.853034</td>\n",
       "      <td>NaN</td>\n",
       "      <td>NaN</td>\n",
       "      <td>0.284755</td>\n",
       "      <td>0.225213</td>\n",
       "      <td>NaN</td>\n",
       "      <td>13</td>\n",
       "    </tr>\n",
       "    <tr>\n",
       "      <th>23951</th>\n",
       "      <td>law</td>\n",
       "      <td>Very_Small</td>\n",
       "      <td>Turkey</td>\n",
       "      <td>D</td>\n",
       "      <td>(null)</td>\n",
       "      <td>No</td>\n",
       "      <td>fit</td>\n",
       "      <td>1</td>\n",
       "      <td>1.000000</td>\n",
       "      <td>1.398226</td>\n",
       "      <td>6.461127</td>\n",
       "      <td>9.113168</td>\n",
       "      <td>40</td>\n",
       "      <td>2</td>\n",
       "      <td>0.215314</td>\n",
       "      <td>0.153429</td>\n",
       "      <td>0.050000</td>\n",
       "      <td>12</td>\n",
       "    </tr>\n",
       "    <tr>\n",
       "      <th>23949</th>\n",
       "      <td>international_relations</td>\n",
       "      <td>Very_Small</td>\n",
       "      <td>Turkey</td>\n",
       "      <td>D</td>\n",
       "      <td>(null)</td>\n",
       "      <td>No</td>\n",
       "      <td>fit</td>\n",
       "      <td>1</td>\n",
       "      <td>1.000000</td>\n",
       "      <td>1.937451</td>\n",
       "      <td>7.023774</td>\n",
       "      <td>9.113168</td>\n",
       "      <td>40</td>\n",
       "      <td>1</td>\n",
       "      <td>0.272818</td>\n",
       "      <td>0.212599</td>\n",
       "      <td>0.025000</td>\n",
       "      <td>12</td>\n",
       "    </tr>\n",
       "    <tr>\n",
       "      <th>23948</th>\n",
       "      <td>history</td>\n",
       "      <td>Very_Small</td>\n",
       "      <td>Turkey</td>\n",
       "      <td>D</td>\n",
       "      <td>(null)</td>\n",
       "      <td>No</td>\n",
       "      <td>fit</td>\n",
       "      <td>1</td>\n",
       "      <td>1.000000</td>\n",
       "      <td>1.398928</td>\n",
       "      <td>6.589176</td>\n",
       "      <td>9.113168</td>\n",
       "      <td>40</td>\n",
       "      <td>1</td>\n",
       "      <td>0.204981</td>\n",
       "      <td>0.153506</td>\n",
       "      <td>0.025000</td>\n",
       "      <td>12</td>\n",
       "    </tr>\n",
       "    <tr>\n",
       "      <th>45543</th>\n",
       "      <td>law</td>\n",
       "      <td>Very_Small</td>\n",
       "      <td>United_States</td>\n",
       "      <td>D</td>\n",
       "      <td>HI</td>\n",
       "      <td>No</td>\n",
       "      <td>fit</td>\n",
       "      <td>1</td>\n",
       "      <td>1.000000</td>\n",
       "      <td>1.721670</td>\n",
       "      <td>7.580989</td>\n",
       "      <td>9.576649</td>\n",
       "      <td>14</td>\n",
       "      <td>1</td>\n",
       "      <td>0.226709</td>\n",
       "      <td>0.179778</td>\n",
       "      <td>0.071429</td>\n",
       "      <td>7</td>\n",
       "    </tr>\n",
       "  </tbody>\n",
       "</table>\n",
       "</div>"
      ],
      "text/plain": [
       "                    discipline institution_classification institution_country  \\\n",
       "0              african_studies                     (null)       United_States   \n",
       "23951                      law                 Very_Small              Turkey   \n",
       "23949  international_relations                 Very_Small              Turkey   \n",
       "23948                  history                 Very_Small              Turkey   \n",
       "45543                      law                 Very_Small       United_States   \n",
       "\n",
       "      institution_rank institution_state devnations dataset  UniqueJournal  \\\n",
       "0               (null)                NY     (null)     fit              1   \n",
       "23951                D            (null)         No     fit              1   \n",
       "23949                D            (null)         No     fit              1   \n",
       "23948                D            (null)         No     fit              1   \n",
       "45543                D                HI         No     fit              1   \n",
       "\n",
       "       UniqueIns  journal_access  collection_access  total_jstor_access  \\\n",
       "0       0.981481        2.669456           9.258784           11.853034   \n",
       "23951   1.000000        1.398226           6.461127            9.113168   \n",
       "23949   1.000000        1.937451           7.023774            9.113168   \n",
       "23948   1.000000        1.398928           6.589176            9.113168   \n",
       "45543   1.000000        1.721670           7.580989            9.576649   \n",
       "\n",
       "       FOS_Total  numberRelevantFOS  journal_in_collection  journal_in_total  \\\n",
       "0            NaN                NaN               0.284755          0.225213   \n",
       "23951         40                  2               0.215314          0.153429   \n",
       "23949         40                  1               0.272818          0.212599   \n",
       "23948         40                  1               0.204981          0.153506   \n",
       "45543         14                  1               0.226709          0.179778   \n",
       "\n",
       "       FOS_prop  number_collections  \n",
       "0           NaN                  13  \n",
       "23951  0.050000                  12  \n",
       "23949  0.025000                  12  \n",
       "23948  0.025000                  12  \n",
       "45543  0.071429                   7  "
      ]
     },
     "execution_count": 16,
     "metadata": {},
     "output_type": "execute_result"
    }
   ],
   "source": [
    "fit_agg_data = fit_agg_data.sort_values('dataset')\n",
    "fit_agg_data.drop('sitename', 1).head()"
   ]
  },
  {
   "cell_type": "code",
   "execution_count": 265,
   "metadata": {
    "collapsed": false
   },
   "outputs": [
    {
     "name": "stdout",
     "output_type": "stream",
     "text": [
      "14712\n",
      "(14712, 3970)\n",
      "full data:\n",
      "(14712, 3970)\n",
      " \n",
      "fit data:\n",
      "Features: (8666, 3970)\n",
      "y: 8666\n",
      " \n",
      "test data:\n",
      "Features: (6046, 3970)\n",
      "values to predict: 6046\n"
     ]
    }
   ],
   "source": [
    "fit_data = fit_agg_data.fillna(0)\n",
    "fit_data['has_whed'] = fit_data['numberRelevantFOS'] != 0\n",
    "fit_data = fit_data.drop('journal_in_collection', 1)\n",
    "fit_data = fit_data.drop('UniqueJournal', 1)\n",
    "fit_data = fit_data.drop('UniqueIns', 1)\n",
    "fit_data = fit_data.drop('journal_in_total', 1)\n",
    "fit_data = fit_data.drop('FOS_Total', 1)\n",
    "fit_data = fit_data.drop('FOS_prop', 1)\n",
    "fit_data = fit_data.drop('numberRelevantFOS', 1)\n",
    "fit_data = fit_data.drop(fit_data[fit_data.journal_access < 3].index)\n",
    "print len(fit_data)\n",
    "\n",
    "dv = DictVectorizer(sparse=True)\n",
    "fitting_data = fit_data.drop('has_whed', 1)\n",
    "X = dv.fit_transform(fitting_data.T.to_dict().values())\n",
    "\n",
    "print X.shape\n",
    "\n",
    "X_fit = X[:len(fit_data[fit_data['dataset']=='fit'])]\n",
    "X_test = X[len(fit_data[fit_data['dataset']=='fit']):]\n",
    "y_fit = fit_data['has_whed'][:len(fit_data[fit_data['dataset']=='fit'])]\n",
    "y_actual = fit_data['has_whed'][len(fit_data[fit_data['dataset']=='fit']):]\n",
    "\n",
    "#confirm X and y for two datasets are the same\n",
    "print \"full data:\"\n",
    "print X.shape\n",
    "print \" \"\n",
    "\n",
    "print \"fit data:\"\n",
    "print \"Features:\", X_fit.shape\n",
    "print \"y:\", len(y_fit)\n",
    "print \" \"\n",
    "\n",
    "print \"test data:\"\n",
    "print \"Features:\", X_test.shape\n",
    "print \"values to predict:\", len(y_actual)"
   ]
  },
  {
   "cell_type": "code",
   "execution_count": 250,
   "metadata": {
    "collapsed": false
   },
   "outputs": [
    {
     "name": "stdout",
     "output_type": "stream",
     "text": [
      "Outcomes:\n",
      "False    3450\n",
      "True     2596\n",
      "Name: error, dtype: int64\n",
      "Observed Success: 0.570625206748\n"
     ]
    }
   ],
   "source": [
    "model = LogisticRegression(class_weight={False: .4, True:.5})\n",
    "\n",
    "model.fit(X_fit, y_fit)\n",
    "predict_whed = model.predict(X_test)\n",
    "\n",
    "new_df = pd.DataFrame(y_actual)\n",
    "new_df['predict_values'] = predict_whed\n",
    "new_df.columns = ['actual_values', 'predict_values']\n",
    "new_df['error'] = new_df['predict_values'] - new_df['actual_values']\n",
    "new_df = new_df.reset_index().drop('index', 1)\n",
    "\n",
    "new_df['status'] = new_df['actual_values'].map(str) +\", \"+new_df['predict_values'].map(str)\n",
    "status = []\n",
    "new_df['status'] = new_df['actual_values'].map(str) +\", \"+new_df['predict_values'].map(str)\n",
    "status = []\n",
    "for row in new_df['status']:\n",
    "    if row == 'False, True':\n",
    "        status.append('False Positive')\n",
    "    elif row == 'True, False':\n",
    "        status.append('False Negatve')\n",
    "    elif row == 'True, True':\n",
    "        status.append('True Positive')\n",
    "    else:\n",
    "        status.append('True Negative')\n",
    "new_df['status'] = status\n",
    "new_df['status'].value_counts()\n",
    "\n",
    "print \"Outcomes:\" \n",
    "print new_df['error'].value_counts()\n",
    "print \"Observed Success:\", len(new_df['error'][new_df['error']==False])/(len(new_df['error'])*1.0)"
   ]
  },
  {
   "cell_type": "markdown",
   "metadata": {},
   "source": [
    "This doesn't look particularly good- it is only right a bit over half of the time. However, I am most interested in correctly identifying all instititutions that have a Field of Study in a given discipline. So, although changes to the model can increase the observed success to 78%, the number of \"missed\" positives (aka false negatives) increases drastically. "
   ]
  },
  {
   "cell_type": "code",
   "execution_count": 251,
   "metadata": {
    "collapsed": false
   },
   "outputs": [
    {
     "name": "stdout",
     "output_type": "stream",
     "text": [
      "True Positive     3267\n",
      "False Positive    2313\n",
      "False Negative     283\n",
      "True Negative      183\n",
      "Name: status, dtype: int64\n"
     ]
    }
   ],
   "source": [
    "new_df['status'] = new_df['actual_values'].map(str) +\", \"+new_df['predict_values'].map(str)\n",
    "status = []\n",
    "for row in new_df['status']:\n",
    "    if row == 'False, True':\n",
    "        status.append('False Positive')\n",
    "    elif row == 'True, False':\n",
    "        status.append('False Negative')\n",
    "    elif row == 'True, True':\n",
    "        status.append('True Positive')\n",
    "    elif row == 'False, False':\n",
    "        status.append('True Negative')\n",
    "new_df['status'] = status\n",
    "print new_df['status'].value_counts()"
   ]
  },
  {
   "cell_type": "code",
   "execution_count": 252,
   "metadata": {
    "collapsed": false
   },
   "outputs": [
    {
     "name": "stdout",
     "output_type": "stream",
     "text": [
      "recall (portion of institutions with WHED Field of Study identified as having one): 0.92\n",
      "precision (portion of times we predicted an institution had a WHED Field of Study that they actually did): 0.585\n"
     ]
    }
   ],
   "source": [
    "TP = len(new_df['status'][new_df['status']=='True Positive'])*1.0\n",
    "FP =len(new_df['status'][new_df['status']=='False Positive'])*1.0\n",
    "FN = len(new_df['status'][new_df['status']=='False Negative'])*1.0\n",
    "\n",
    "print \"recall (portion of institutions with WHED Field of Study identified as having one):\", round (TP/(TP + FN), 3)\n",
    "print \"precision (portion of times we predicted an institution had a WHED Field of Study that they actually did):\", round(TP/(TP + FP), 3)\n"
   ]
  },
  {
   "cell_type": "markdown",
   "metadata": {},
   "source": [
    "These results are not satisfactory- there are more \"false negatives\" than \"true negatives\", so the model is clearly too skewed to select positive values. In its current form, when altering the model by adjusting the weights for classifying as False or True, the only change is a substantial decrease in recall (and the precision remains around .58).\n",
    "\n",
    "Clearly, more digging into this matter is needed."
   ]
  },
  {
   "cell_type": "code",
   "execution_count": 232,
   "metadata": {
    "collapsed": false
   },
   "outputs": [
    {
     "data": {
      "image/png": "[encoded data removed]",
      "text/plain": [
       "<matplotlib.figure.Figure at 0x14e421d10>"
      ]
     },
     "metadata": {},
     "output_type": "display_data"
    }
   ],
   "source": [
    "outcome = []\n",
    "for row in new_df['error']:\n",
    "    if row == False:\n",
    "        outcome.append('Correct')\n",
    "    else:\n",
    "        outcome.append('Incorrect')\n",
    "new_df['Predictions'] = outcome\n",
    "f = new_df['Predictions'].value_counts().plot.pie(figsize=(6, 6), colors=['#008080', '#aab1d8'],\\\n",
    "fontsize = 16,title='               Outcome of predicting if an institution has WHED Fields of Study \\\n",
    "\\nin a given discipline based on usage of JSTOR content')"
   ]
  },
  {
   "cell_type": "markdown",
   "metadata": {},
   "source": [
    "### Conclusions\n",
    "\n",
    "This model will require substantial exploration and further refinement to be useful in predicting whether an institution has WHED Fields of Study in a given discipline."
   ]
  },
  {
   "cell_type": "markdown",
   "metadata": {},
   "source": [
    "# Planning for future implementation\n",
    "Moving forward, it will be possible to access all datasets used in this analysis in the same data warehouse, thus making reproduction relatively straightforward. Usage data is updated in near real-time, but given that the model focuses on usage over a 3-year period, I believe updating the data quarterly would suffice. The external WHED data will be updated in the annual data release. \n",
    "\n",
    "This analysis could provide a broad audience of internal users assistance in understanding usage trends, predicting interest within specific content areas, and working to build audience profiles for future projects. In order for this data to be accessible to a broad audience, it could be represented in a dashboard that allowed users to search for a particular institution, or enter specific criteria (classification X, country Y, etc.) and project results.\n",
    "\n",
    "\n",
    "However, more work is needed before unleashing this analysis on a “broad” audience. This exploration will include:\n",
    "<br><i> -Are certain disciplines more amenable to prediction than others?\n",
    "<br>-Can this analysis be used to examine particular strengths and weaknesses in content awareness? (perhaps low usage for some institutions with relevant WHED Fields of Study points to lack of awareness regarding access to that content)\n",
    "<br>-What if the 22 disciplines I selected skew in a way not generally represented across the other 60 disciplines? Would like to perform a check with another portion of discipline data.\n",
    "<br>-Is examining all usage at a given institution and comparing that to their WHED Field of Study profile more successful than approaching the matter by examining all usage across journals of a specific discipline?</i>\n",
    "<br>\n",
    "<br>\n",
    "With the exploration of these remaining questions, the value of this data will no doubt increase and allow a more successful view into the interactions of usage and academic programs at universities worldwide."
   ]
  }
 ],
 "metadata": {
  "kernelspec": {
   "display_name": "Python 2",
   "language": "python",
   "name": "python2"
  },
  "language_info": {
   "codemirror_mode": {
    "name": "ipython",
    "version": 2
   },
   "file_extension": ".py",
   "mimetype": "text/x-python",
   "name": "python",
   "nbconvert_exporter": "python",
   "pygments_lexer": "ipython2",
   "version": "2.7.11"
  }
 },
 "nbformat": 4,
 "nbformat_minor": 0
}
